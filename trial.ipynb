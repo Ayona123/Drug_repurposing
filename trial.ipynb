{
  "nbformat": 4,
  "nbformat_minor": 0,
  "metadata": {
    "colab": {
      "name": "Untitled14.ipynb",
      "provenance": [],
      "authorship_tag": "ABX9TyPwgtzF1nXkYegMlHTHhhAT",
      "include_colab_link": true
    },
    "kernelspec": {
      "name": "python3",
      "display_name": "Python 3"
    },
    "language_info": {
      "name": "python"
    }
  },
  "cells": [
    {
      "cell_type": "markdown",
      "metadata": {
        "id": "view-in-github",
        "colab_type": "text"
      },
      "source": [
        "<a href=\"https://colab.research.google.com/github/Ayona123/Drug_repurposing/blob/main/trial.ipynb\" target=\"_parent\"><img src=\"https://colab.research.google.com/assets/colab-badge.svg\" alt=\"Open In Colab\"/></a>"
      ]
    },
    {
      "cell_type": "code",
      "execution_count": null,
      "metadata": {
        "colab": {
          "base_uri": "https://localhost:8080/"
        },
        "id": "QlJG1lPfBnJX",
        "outputId": "bf5c4dab-6fc0-41ca-a1fc-15d553373f18"
      },
      "outputs": [
        {
          "output_type": "stream",
          "name": "stdout",
          "text": [
            "\u001b[?25l\r\u001b[K     |█████▊                          | 10 kB 18.9 MB/s eta 0:00:01\r\u001b[K     |███████████▍                    | 20 kB 25.0 MB/s eta 0:00:01\r\u001b[K     |█████████████████               | 30 kB 12.7 MB/s eta 0:00:01\r\u001b[K     |██████████████████████▊         | 40 kB 10.0 MB/s eta 0:00:01\r\u001b[K     |████████████████████████████▍   | 51 kB 5.2 MB/s eta 0:00:01\r\u001b[K     |████████████████████████████████| 57 kB 2.9 MB/s \n",
            "\u001b[?25h\u001b[?25l\r\u001b[K     |█████▊                          | 10 kB 20.7 MB/s eta 0:00:01\r\u001b[K     |███████████▌                    | 20 kB 27.9 MB/s eta 0:00:01\r\u001b[K     |█████████████████▎              | 30 kB 34.4 MB/s eta 0:00:01\r\u001b[K     |███████████████████████         | 40 kB 39.0 MB/s eta 0:00:01\r\u001b[K     |████████████████████████████▉   | 51 kB 43.5 MB/s eta 0:00:01\r\u001b[K     |████████████████████████████████| 56 kB 4.2 MB/s \n",
            "\u001b[?25h"
          ]
        }
      ],
      "source": [
        "!pip install kora -q\n",
        "import kora.install.rdkit"
      ]
    },
    {
      "cell_type": "code",
      "source": [
        "from rdkit import Chem"
      ],
      "metadata": {
        "id": "cYsi3vRUBrvM"
      },
      "execution_count": null,
      "outputs": []
    },
    {
      "cell_type": "code",
      "source": [
        "!pip install git+https://github.com/samoturk/mol2vec"
      ],
      "metadata": {
        "colab": {
          "base_uri": "https://localhost:8080/"
        },
        "id": "AXt9TyOaBwfd",
        "outputId": "4b9f5e87-1ac0-4904-9141-e536ca3255eb"
      },
      "execution_count": null,
      "outputs": [
        {
          "output_type": "stream",
          "name": "stdout",
          "text": [
            "Collecting git+https://github.com/samoturk/mol2vec\n",
            "  Cloning https://github.com/samoturk/mol2vec to /tmp/pip-req-build-icn_1ub5\n",
            "  Running command git clone -q https://github.com/samoturk/mol2vec /tmp/pip-req-build-icn_1ub5\n",
            "Requirement already satisfied: numpy in /usr/local/lib/python3.7/dist-packages (from mol2vec==0.1) (1.19.5)\n",
            "Requirement already satisfied: gensim in /usr/local/lib/python3.7/dist-packages (from mol2vec==0.1) (3.6.0)\n",
            "Requirement already satisfied: tqdm in /usr/local/lib/python3.7/dist-packages (from mol2vec==0.1) (4.62.3)\n",
            "Requirement already satisfied: joblib in /usr/local/lib/python3.7/dist-packages (from mol2vec==0.1) (1.1.0)\n",
            "Requirement already satisfied: pandas in /usr/local/lib/python3.7/dist-packages (from mol2vec==0.1) (1.1.5)\n",
            "Requirement already satisfied: matplotlib in /usr/local/lib/python3.7/dist-packages (from mol2vec==0.1) (3.2.2)\n",
            "Requirement already satisfied: IPython in /usr/local/lib/python3.7/dist-packages (from mol2vec==0.1) (5.5.0)\n",
            "Requirement already satisfied: seaborn in /usr/local/lib/python3.7/dist-packages (from mol2vec==0.1) (0.11.2)\n",
            "Requirement already satisfied: six>=1.5.0 in /usr/local/lib/python3.7/dist-packages (from gensim->mol2vec==0.1) (1.15.0)\n",
            "Requirement already satisfied: scipy>=0.18.1 in /usr/local/lib/python3.7/dist-packages (from gensim->mol2vec==0.1) (1.4.1)\n",
            "Requirement already satisfied: smart-open>=1.2.1 in /usr/local/lib/python3.7/dist-packages (from gensim->mol2vec==0.1) (5.2.1)\n",
            "Requirement already satisfied: traitlets>=4.2 in /usr/local/lib/python3.7/dist-packages (from IPython->mol2vec==0.1) (5.1.1)\n",
            "Requirement already satisfied: pickleshare in /usr/local/lib/python3.7/dist-packages (from IPython->mol2vec==0.1) (0.7.5)\n",
            "Requirement already satisfied: decorator in /usr/local/lib/python3.7/dist-packages (from IPython->mol2vec==0.1) (4.4.2)\n",
            "Requirement already satisfied: prompt-toolkit<2.0.0,>=1.0.4 in /usr/local/lib/python3.7/dist-packages (from IPython->mol2vec==0.1) (1.0.18)\n",
            "Requirement already satisfied: setuptools>=18.5 in /usr/local/lib/python3.7/dist-packages (from IPython->mol2vec==0.1) (57.4.0)\n",
            "Requirement already satisfied: pygments in /usr/local/lib/python3.7/dist-packages (from IPython->mol2vec==0.1) (2.6.1)\n",
            "Requirement already satisfied: simplegeneric>0.8 in /usr/local/lib/python3.7/dist-packages (from IPython->mol2vec==0.1) (0.8.1)\n",
            "Requirement already satisfied: pexpect in /usr/local/lib/python3.7/dist-packages (from IPython->mol2vec==0.1) (4.8.0)\n",
            "Requirement already satisfied: wcwidth in /usr/local/lib/python3.7/dist-packages (from prompt-toolkit<2.0.0,>=1.0.4->IPython->mol2vec==0.1) (0.2.5)\n",
            "Requirement already satisfied: kiwisolver>=1.0.1 in /usr/local/lib/python3.7/dist-packages (from matplotlib->mol2vec==0.1) (1.3.2)\n",
            "Requirement already satisfied: pyparsing!=2.0.4,!=2.1.2,!=2.1.6,>=2.0.1 in /usr/local/lib/python3.7/dist-packages (from matplotlib->mol2vec==0.1) (3.0.6)\n",
            "Requirement already satisfied: python-dateutil>=2.1 in /usr/local/lib/python3.7/dist-packages (from matplotlib->mol2vec==0.1) (2.8.2)\n",
            "Requirement already satisfied: cycler>=0.10 in /usr/local/lib/python3.7/dist-packages (from matplotlib->mol2vec==0.1) (0.11.0)\n",
            "Requirement already satisfied: pytz>=2017.2 in /usr/local/lib/python3.7/dist-packages (from pandas->mol2vec==0.1) (2018.9)\n",
            "Requirement already satisfied: ptyprocess>=0.5 in /usr/local/lib/python3.7/dist-packages (from pexpect->IPython->mol2vec==0.1) (0.7.0)\n",
            "Building wheels for collected packages: mol2vec\n",
            "  Building wheel for mol2vec (setup.py) ... \u001b[?25l\u001b[?25hdone\n",
            "  Created wheel for mol2vec: filename=mol2vec-0.1-py3-none-any.whl size=14038 sha256=590b72acb384de81fef73f74ae7a84b9bcf9f4bb11ab776dd066aba5dece74cb\n",
            "  Stored in directory: /tmp/pip-ephem-wheel-cache-xe6xpxgh/wheels/80/d5/e1/90dc211e4a17780f99eaec43328470a70284cd731ef2a77034\n",
            "Successfully built mol2vec\n",
            "Installing collected packages: mol2vec\n",
            "Successfully installed mol2vec-0.1\n"
          ]
        }
      ]
    },
    {
      "cell_type": "code",
      "source": [
        "from google.colab import drive\n",
        "drive.mount('/content/drive',force_remount=True)"
      ],
      "metadata": {
        "colab": {
          "base_uri": "https://localhost:8080/"
        },
        "id": "yRTJkyi6B061",
        "outputId": "cacdd30c-e45d-4924-e12b-67b8dfbee046"
      },
      "execution_count": null,
      "outputs": [
        {
          "output_type": "stream",
          "name": "stdout",
          "text": [
            "Mounted at /content/drive\n"
          ]
        }
      ]
    },
    {
      "cell_type": "code",
      "source": [
        "import pandas as pd\n",
        "df=pd.read_csv('/content/sample_data/trial.csv')\n",
        "\n",
        "target=df['Vina Score']\n",
        "df2=df[['smiles']]\n",
        "df2['mol'] = df2['smiles'].apply(lambda x: Chem.MolFromSmiles(x))"
      ],
      "metadata": {
        "colab": {
          "base_uri": "https://localhost:8080/"
        },
        "id": "mRIwzvcBCLRG",
        "outputId": "a5cf691b-d438-455e-99b1-3a2696c63a3b"
      },
      "execution_count": null,
      "outputs": [
        {
          "output_type": "stream",
          "name": "stderr",
          "text": [
            "/usr/local/lib/python3.7/dist-packages/ipykernel_launcher.py:6: SettingWithCopyWarning: \n",
            "A value is trying to be set on a copy of a slice from a DataFrame.\n",
            "Try using .loc[row_indexer,col_indexer] = value instead\n",
            "\n",
            "See the caveats in the documentation: https://pandas.pydata.org/pandas-docs/stable/user_guide/indexing.html#returning-a-view-versus-a-copy\n",
            "  \n"
          ]
        }
      ]
    },
    {
      "cell_type": "code",
      "source": [
        "from gensim.models import word2vec\n",
        "from mol2vec import features\n",
        "from mol2vec import helpers\n",
        "from mol2vec.features import mol2alt_sentence, mol2sentence, MolSentence, DfVec, sentences2vec\n",
        "df2['sentence'] = df2.apply(lambda x: MolSentence(mol2alt_sentence(x['mol'], 1)), axis=1)"
      ],
      "metadata": {
        "colab": {
          "base_uri": "https://localhost:8080/"
        },
        "id": "EobwxeKrCqZ8",
        "outputId": "d00de48e-9b50-4cc8-e7db-035e1c810166"
      },
      "execution_count": null,
      "outputs": [
        {
          "output_type": "stream",
          "name": "stderr",
          "text": [
            "/usr/local/lib/python3.7/dist-packages/ipykernel_launcher.py:5: SettingWithCopyWarning: \n",
            "A value is trying to be set on a copy of a slice from a DataFrame.\n",
            "Try using .loc[row_indexer,col_indexer] = value instead\n",
            "\n",
            "See the caveats in the documentation: https://pandas.pydata.org/pandas-docs/stable/user_guide/indexing.html#returning-a-view-versus-a-copy\n",
            "  \"\"\"\n"
          ]
        }
      ]
    },
    {
      "cell_type": "code",
      "source": [
        "model = word2vec.Word2Vec.load('/content/sample_data/model_300dim.pkl')\n",
        "import numpy as np\n",
        "df2['mol2vec'] = [DfVec(x) for x in sentences2vec(df2['sentence'], model, unseen='UNK')]\n",
        "X = np.array([x.vec for x in df2['mol2vec']])\n",
        "y = target.values\n",
        "X.shape"
      ],
      "metadata": {
        "colab": {
          "base_uri": "https://localhost:8080/"
        },
        "id": "Tip1NiToGwav",
        "outputId": "95388a56-c765-4333-b28c-62f1e7acbaa8"
      },
      "execution_count": 13,
      "outputs": [
        {
          "output_type": "stream",
          "name": "stderr",
          "text": [
            "/usr/local/lib/python3.7/dist-packages/ipykernel_launcher.py:3: SettingWithCopyWarning: \n",
            "A value is trying to be set on a copy of a slice from a DataFrame.\n",
            "Try using .loc[row_indexer,col_indexer] = value instead\n",
            "\n",
            "See the caveats in the documentation: https://pandas.pydata.org/pandas-docs/stable/user_guide/indexing.html#returning-a-view-versus-a-copy\n",
            "  This is separate from the ipykernel package so we can avoid doing imports until\n"
          ]
        },
        {
          "output_type": "execute_result",
          "data": {
            "text/plain": [
              "(20, 100)"
            ]
          },
          "metadata": {},
          "execution_count": 13
        }
      ]
    },
    {
      "cell_type": "code",
      "source": [
        "from sklearn.metrics import mean_absolute_error, mean_squared_error,r2_score\n",
        "def evaluation(model, X_test, y_test):\n",
        "    prediction = model.predict(X_test)\n",
        "    mae = mean_absolute_error(y_test, prediction)\n",
        "    mse = mean_squared_error(y_test, prediction,squared=False)\n",
        "    r2_score_val = r2_score(y_test, prediction)\n",
        "    \n",
        "    plt.figure(figsize=(15, 10))\n",
        "    plt.plot(prediction[:300], \"red\", label=\"prediction\", linewidth=1.0)\n",
        "    plt.plot(y_test[:300], 'green', label=\"actual\", linewidth=1.0)\n",
        "    plt.legend()\n",
        "    plt.ylabel('Vina_score')\n",
        "    plt.title(\"MAE {}, MSE {}\".format(round(mae, 4), round(mse, 4)))\n",
        "    plt.show()\n",
        "    \n",
        "    print('MAE score:', round(mae, 4))\n",
        "    print('rMSE score:', round(mse,4))\n",
        "    print('R2 score:', round(r2_score_val,4))"
      ],
      "metadata": {
        "id": "AP1hO7ZtKO4K"
      },
      "execution_count": 14,
      "outputs": []
    },
    {
      "cell_type": "code",
      "source": [
        " from sklearn.ensemble import RandomForestRegressor\n",
        " from sklearn.model_selection import train_test_split\n",
        " import matplotlib.pyplot as plt\n",
        " X_train, X_test, y_train, y_test = train_test_split(X, y, test_size=0.4, random_state=1)\n",
        "\n",
        "regr = RandomForestRegressor(max_depth=7, random_state=1)\n",
        "#cv = cross_validate(model, X, y, cv=5)\n",
        "regr.fit(X, y)\n",
        "evaluation(regr, X_test, y_test)"
      ],
      "metadata": {
        "colab": {
          "base_uri": "https://localhost:8080/",
          "height": 658
        },
        "id": "t43bSeX-KV4B",
        "outputId": "ed6a36aa-683b-444d-b198-42124930e429"
      },
      "execution_count": 15,
      "outputs": [
        {
          "output_type": "display_data",
          "data": {
            "image/png": "[encoded data removed]",
            "text/plain": [
              "<Figure size 1080x720 with 1 Axes>"
            ]
          },
          "metadata": {
            "needs_background": "light"
          }
        },
        {
          "output_type": "stream",
          "name": "stdout",
          "text": [
            "MAE score: 0.2685\n",
            "rMSE score: 0.3866\n",
            "R2 score: 0.9022\n"
          ]
        }
      ]
    },
    {
      "cell_type": "code",
      "source": [
        "!git init"
      ],
      "metadata": {
        "colab": {
          "base_uri": "https://localhost:8080/"
        },
        "id": "Ic3mQEzGKkKS",
        "outputId": "9f56a6a9-a1b8-4bfe-8a08-c7455ad776ac"
      },
      "execution_count": 16,
      "outputs": [
        {
          "output_type": "stream",
          "name": "stdout",
          "text": [
            "Initialized empty Git repository in /content/.git/\n"
          ]
        }
      ]
    }
  ]
}