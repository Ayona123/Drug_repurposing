{
  "nbformat": 4,
  "nbformat_minor": 0,
  "metadata": {
    "colab": {
      "name": "Untitled5.ipynb",
      "provenance": [],
      "authorship_tag": "ABX9TyNMIFYw6VmT3ZxL08Xvpkd2",
      "include_colab_link": true
    },
    "kernelspec": {
      "name": "python3",
      "display_name": "Python 3"
    },
    "language_info": {
      "name": "python"
    }
  },
  "cells": [
    {
      "cell_type": "markdown",
      "metadata": {
        "id": "view-in-github",
        "colab_type": "text"
      },
      "source": [
        "<a href=\"https://colab.research.google.com/github/Ayona123/Drug_repurposing/blob/main/code.ipynb\" target=\"_parent\"><img src=\"https://colab.research.google.com/assets/colab-badge.svg\" alt=\"Open In Colab\"/></a>"
      ]
    },
    {
      "cell_type": "code",
      "metadata": {
        "id": "jaMW1MPlkfJi"
      },
      "source": [
        "# Install RDKit.\n",
        "%%capture\n",
        "!pip install rdkit-pypi"
      ],
      "execution_count": null,
      "outputs": []
    },
    {
      "cell_type": "code",
      "metadata": {
        "id": "gkc0DZ_DlrY3"
      },
      "source": [
        "from rdkit import Chem\n",
        "from rdkit.Chem import Draw\n",
        "from rdkit.Chem.Draw import IPythonConsole\n",
        "from rdkit.Chem import Descriptors\n",
        "from rdkit.Chem import AllChem\n",
        "from rdkit import DataStructs\n",
        "import numpy as np"
      ],
      "execution_count": null,
      "outputs": []
    },
    {
      "cell_type": "code",
      "metadata": {
        "colab": {
          "base_uri": "https://localhost:8080/",
          "height": 33
        },
        "id": "4p4fLo9gnIwF",
        "outputId": "29b0faea-6a0b-49f3-a98c-4532f09dd3ba"
      },
      "source": [
        "smiles_list = [\n",
        "\n",
        "\n",
        "               \n",
        "]\n",
        "mol_list = []\n",
        "for smiles in smiles_list:\n",
        "   mol= Chem.MolFromSmiles (smiles)\n",
        "   mol_list.append (mol)\n",
        "\n",
        "img = Draw.MolsToGridImage(mol_list, molsPerRow=10)\n",
        "img\n",
        "\n"
      ],
      "execution_count": null,
      "outputs": [
        {
          "output_type": "execute_result",
          "data": {
            "image/png": "\n",
            "text/plain": [
              "<IPython.core.display.Image object>"
            ]
          },
          "metadata": {},
          "execution_count": 3
        }
      ]
    },
    {
      "cell_type": "code",
      "metadata": {
        "id": "m6aNyAAcaxWh"
      },
      "source": [
        "M1 = mol_list [0]\n",
        "M1"
      ],
      "execution_count": null,
      "outputs": []
    },
    {
      "cell_type": "code",
      "metadata": {
        "id": "LQEsaOZ113t0"
      },
      "source": [
        "M2 = mol_list [1]\n",
        "M2"
      ],
      "execution_count": null,
      "outputs": []
    },
    {
      "cell_type": "code",
      "metadata": {
        "id": "83eDOf1U2Tee"
      },
      "source": [
        "M3 = mol_list [2]\n",
        "M3"
      ],
      "execution_count": null,
      "outputs": []
    },
    {
      "cell_type": "code",
      "metadata": {
        "id": "v47eJUp22UBr"
      },
      "source": [
        "M4 = mol_list [3]\n",
        "M4"
      ],
      "execution_count": null,
      "outputs": []
    },
    {
      "cell_type": "code",
      "metadata": {
        "id": "iSRbqSNu2TQ8"
      },
      "source": [
        "M5 = mol_list [4]\n",
        "M5"
      ],
      "execution_count": null,
      "outputs": []
    },
    {
      "cell_type": "code",
      "metadata": {
        "id": "RFJGbkyz2TKC"
      },
      "source": [
        "M6 = mol_list [5]\n",
        "M6"
      ],
      "execution_count": null,
      "outputs": []
    },
    {
      "cell_type": "code",
      "metadata": {
        "id": "tAjOt7LUa6aI"
      },
      "source": [
        "M7 = mol_list [6]\n",
        "M7"
      ],
      "execution_count": null,
      "outputs": []
    },
    {
      "cell_type": "code",
      "metadata": {
        "id": "aNlbO0EOa6ew"
      },
      "source": [
        "M8 = mol_list [7]\n",
        "M8"
      ],
      "execution_count": null,
      "outputs": []
    },
    {
      "cell_type": "code",
      "metadata": {
        "id": "Wlv-WWE8a6jr"
      },
      "source": [
        "M9 = mol_list [8]\n",
        "M9"
      ],
      "execution_count": null,
      "outputs": []
    },
    {
      "cell_type": "code",
      "metadata": {
        "id": "p43tsS-ta6nK"
      },
      "source": [
        "M10 = mol_list [9]\n",
        "M10"
      ],
      "execution_count": null,
      "outputs": []
    },
    {
      "cell_type": "code",
      "metadata": {
        "id": "XAJ9MH6ha6sI"
      },
      "source": [
        "M11 = mol_list [10]\n",
        "M11"
      ],
      "execution_count": null,
      "outputs": []
    },
    {
      "cell_type": "code",
      "metadata": {
        "id": "FW8I7eGma6vv"
      },
      "source": [
        "M12 = mol_list [11]\n",
        "M12"
      ],
      "execution_count": null,
      "outputs": []
    },
    {
      "cell_type": "code",
      "metadata": {
        "id": "hqHfKfQOa60O"
      },
      "source": [
        "M13 = mol_list [12]\n",
        "M13"
      ],
      "execution_count": null,
      "outputs": []
    },
    {
      "cell_type": "code",
      "metadata": {
        "id": "1JbEdTAga64O"
      },
      "source": [
        "M14 = mol_list [13]\n",
        "M14"
      ],
      "execution_count": null,
      "outputs": []
    },
    {
      "cell_type": "code",
      "metadata": {
        "id": "tur-eemGa688"
      },
      "source": [
        "M15 = mol_list [14]\n",
        "M15"
      ],
      "execution_count": null,
      "outputs": []
    },
    {
      "cell_type": "code",
      "metadata": {
        "id": "TDLAKY9Aa7BK"
      },
      "source": [
        "M16 = mol_list [15]\n",
        "M16"
      ],
      "execution_count": null,
      "outputs": []
    },
    {
      "cell_type": "code",
      "metadata": {
        "id": "bxE3x639a7F4"
      },
      "source": [
        "M17 = mol_list [16]\n",
        "M17"
      ],
      "execution_count": null,
      "outputs": []
    },
    {
      "cell_type": "code",
      "metadata": {
        "id": "N7d_vSYaa7LT"
      },
      "source": [
        "M18 = mol_list [17]\n",
        "M18"
      ],
      "execution_count": null,
      "outputs": []
    },
    {
      "cell_type": "code",
      "metadata": {
        "id": "_5fYpGQua7PN"
      },
      "source": [
        "M19 = mol_list [18]\n",
        "M19"
      ],
      "execution_count": null,
      "outputs": []
    },
    {
      "cell_type": "code",
      "metadata": {
        "id": "edYA9EIXa7TM"
      },
      "source": [
        "M20 = mol_list [19]\n",
        "M20"
      ],
      "execution_count": null,
      "outputs": []
    },
    {
      "cell_type": "code",
      "metadata": {
        "id": "k9tlEPu8a7Xa"
      },
      "source": [
        "M21 = mol_list [20]\n",
        "M21"
      ],
      "execution_count": null,
      "outputs": []
    },
    {
      "cell_type": "code",
      "metadata": {
        "id": "h5ISsPzja7f-"
      },
      "source": [
        "M22 = mol_list [21]\n",
        "M22"
      ],
      "execution_count": null,
      "outputs": []
    },
    {
      "cell_type": "code",
      "metadata": {
        "id": "0E3nrKKza7kZ"
      },
      "source": [
        "M23 = mol_list [22]\n",
        "M23"
      ],
      "execution_count": null,
      "outputs": []
    },
    {
      "cell_type": "code",
      "metadata": {
        "id": "r_9O0AAza7oo"
      },
      "source": [
        "M24 = mol_list [23]\n",
        "M24"
      ],
      "execution_count": null,
      "outputs": []
    },
    {
      "cell_type": "code",
      "metadata": {
        "id": "oj7hpVr-a7tQ"
      },
      "source": [
        "M25 = mol_list [24]\n",
        "M25"
      ],
      "execution_count": null,
      "outputs": []
    },
    {
      "cell_type": "code",
      "metadata": {
        "id": "5hUMdISba7yA"
      },
      "source": [
        "M26 = mol_list [25]\n",
        "M26"
      ],
      "execution_count": null,
      "outputs": []
    },
    {
      "cell_type": "code",
      "metadata": {
        "id": "-e9UE_g2a72Y"
      },
      "source": [
        "M27 = mol_list [26]\n",
        "M27"
      ],
      "execution_count": null,
      "outputs": []
    },
    {
      "cell_type": "code",
      "metadata": {
        "id": "Y2k3cIGRa77k"
      },
      "source": [
        "M28 = mol_list [27]\n",
        "M28"
      ],
      "execution_count": null,
      "outputs": []
    },
    {
      "cell_type": "code",
      "metadata": {
        "id": "tSBgNQS4a82P"
      },
      "source": [
        "M29 = mol_list [28]\n",
        "M29"
      ],
      "execution_count": null,
      "outputs": []
    },
    {
      "cell_type": "code",
      "metadata": {
        "id": "q36o_MHRa89b"
      },
      "source": [
        "M30 = mol_list [29]\n",
        "M30"
      ],
      "execution_count": null,
      "outputs": []
    },
    {
      "cell_type": "code",
      "metadata": {
        "id": "wMc3Rcsna9EL"
      },
      "source": [
        "M31 = mol_list [30]\n",
        "M31"
      ],
      "execution_count": null,
      "outputs": []
    },
    {
      "cell_type": "code",
      "metadata": {
        "id": "VGbGXhOXa9-s"
      },
      "source": [
        "M32 = mol_list [31]\n",
        "M32"
      ],
      "execution_count": null,
      "outputs": []
    },
    {
      "cell_type": "code",
      "metadata": {
        "id": "Gxn0o_gNa-KL"
      },
      "source": [
        "M33 = mol_list [32]\n",
        "M33"
      ],
      "execution_count": null,
      "outputs": []
    },
    {
      "cell_type": "code",
      "metadata": {
        "id": "ChUmEynga-Xg"
      },
      "source": [
        "M34 = mol_list [33]\n",
        "M34"
      ],
      "execution_count": null,
      "outputs": []
    },
    {
      "cell_type": "code",
      "metadata": {
        "id": "U8YAoPqQa-gX"
      },
      "source": [
        "M35 = mol_list [34]\n",
        "M35"
      ],
      "execution_count": null,
      "outputs": []
    },
    {
      "cell_type": "code",
      "metadata": {
        "id": "4Ka-Nitta-pE"
      },
      "source": [
        "M36 = mol_list [35]\n",
        "M36"
      ],
      "execution_count": null,
      "outputs": []
    },
    {
      "cell_type": "code",
      "metadata": {
        "id": "-4MfEKT5ORf1"
      },
      "source": [
        "M37= mol_list [36]\n",
        "M37"
      ],
      "execution_count": null,
      "outputs": []
    },
    {
      "cell_type": "code",
      "metadata": {
        "id": "nEUYAN2Gc1CC"
      },
      "source": [
        "M38= mol_list [37]\n",
        "M38"
      ],
      "execution_count": null,
      "outputs": []
    },
    {
      "cell_type": "code",
      "metadata": {
        "id": "sZjhxuIIc1In"
      },
      "source": [
        "M39= mol_list [38]\n",
        "M39"
      ],
      "execution_count": null,
      "outputs": []
    },
    {
      "cell_type": "code",
      "metadata": {
        "id": "kyFfSYq9c1OY"
      },
      "source": [
        "M40= mol_list [39]\n",
        "M40"
      ],
      "execution_count": null,
      "outputs": []
    },
    {
      "cell_type": "code",
      "metadata": {
        "id": "j4k_04Ywc1TP"
      },
      "source": [
        "M41= mol_list [40]\n",
        "M41"
      ],
      "execution_count": null,
      "outputs": []
    },
    {
      "cell_type": "code",
      "metadata": {
        "id": "TfUWm_3yc1YU"
      },
      "source": [
        "M42= mol_list [41]\n",
        "M42"
      ],
      "execution_count": null,
      "outputs": []
    },
    {
      "cell_type": "code",
      "metadata": {
        "id": "rYOaTz9Yc1hj"
      },
      "source": [
        "M43= mol_list [42]\n",
        "M43"
      ],
      "execution_count": null,
      "outputs": []
    },
    {
      "cell_type": "code",
      "metadata": {
        "id": "9a7Plt9YORHr"
      },
      "source": [
        "M44= mol_list [43]\n",
        "M44"
      ],
      "execution_count": null,
      "outputs": []
    },
    {
      "cell_type": "code",
      "metadata": {
        "id": "y6S_NzVTOREn"
      },
      "source": [
        "M45= mol_list [44]\n",
        "M45"
      ],
      "execution_count": null,
      "outputs": []
    },
    {
      "cell_type": "code",
      "metadata": {
        "id": "LB2eMznbORBd"
      },
      "source": [
        "M46= mol_list [45]\n",
        "M46"
      ],
      "execution_count": null,
      "outputs": []
    },
    {
      "cell_type": "code",
      "metadata": {
        "id": "e59j18cMOQ92"
      },
      "source": [
        "M47= mol_list [46]\n",
        "M47"
      ],
      "execution_count": null,
      "outputs": []
    },
    {
      "cell_type": "code",
      "metadata": {
        "id": "EO5eAbX1OQ67"
      },
      "source": [
        "M48= mol_list [47]\n",
        "M48"
      ],
      "execution_count": null,
      "outputs": []
    },
    {
      "cell_type": "code",
      "metadata": {
        "id": "q5oGA50wOQ38"
      },
      "source": [
        "M49= mol_list [48]\n",
        "M49"
      ],
      "execution_count": null,
      "outputs": []
    },
    {
      "cell_type": "code",
      "metadata": {
        "id": "bPV8On5pOQ0G"
      },
      "source": [
        "M50= mol_list [49]\n",
        "M50"
      ],
      "execution_count": null,
      "outputs": []
    }
  ]
}