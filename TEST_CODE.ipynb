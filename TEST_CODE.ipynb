{
  "nbformat": 4,
  "nbformat_minor": 0,
  "metadata": {
    "colab": {
      "name": "Untitled5.ipynb",
      "provenance": [],
      "authorship_tag": "ABX9TyNxXKFTC0NsWDETnzuSt2wD",
      "include_colab_link": true
    },
    "kernelspec": {
      "name": "python3",
      "display_name": "Python 3"
    },
    "language_info": {
      "name": "python"
    }
  },
  "cells": [
    {
      "cell_type": "markdown",
      "metadata": {
        "id": "view-in-github",
        "colab_type": "text"
      },
      "source": [
        "<a href=\"https://colab.research.google.com/github/Ayona123/Drug_repurposing/blob/main/TEST_CODE.ipynb\" target=\"_parent\"><img src=\"https://colab.research.google.com/assets/colab-badge.svg\" alt=\"Open In Colab\"/></a>"
      ]
    },
    {
      "cell_type": "code",
      "metadata": {
        "id": "jaMW1MPlkfJi"
      },
      "source": [
        "# Install RDKit.\n",
        "%%capture\n",
        "!pip install rdkit-pypi"
      ],
      "execution_count": 1,
      "outputs": []
    },
    {
      "cell_type": "code",
      "metadata": {
        "id": "gkc0DZ_DlrY3"
      },
      "source": [
        "from rdkit import Chem\n",
        "from rdkit.Chem import Draw\n",
        "from rdkit.Chem.Draw import IPythonConsole\n",
        "from rdkit.Chem import Descriptors\n",
        "from rdkit.Chem import AllChem\n",
        "from rdkit import DataStructs\n",
        "import numpy as np"
      ],
      "execution_count": 2,
      "outputs": []
    },
    {
      "cell_type": "code",
      "metadata": {
        "colab": {
          "base_uri": "https://localhost:8080/",
          "height": 33
        },
        "id": "4p4fLo9gnIwF",
        "outputId": "29b0faea-6a0b-49f3-a98c-4532f09dd3ba"
      },
      "source": [
        "smiles_list = [\n",
        "\n",
        "\n",
        "               \n",
        "]\n",
        "mol_list = []\n",
        "for smiles in smiles_list:\n",
        "   mol= Chem.MolFromSmiles (smiles)\n",
        "   mol_list.append (mol)\n",
        "\n",
        "img = Draw.MolsToGridImage(mol_list, molsPerRow=10)\n",
        "img\n",
        "\n"
      ],
      "execution_count": 3,
      "outputs": [
        {
          "output_type": "execute_result",
          "data": {
            "image/png": "\n",
            "text/plain": [
              "<IPython.core.display.Image object>"
            ]
          },
          "metadata": {},
          "execution_count": 3
        }
      ]
    },
    {
      "cell_type": "code",
      "metadata": {
        "id": "m6aNyAAcaxWh"
      },
      "source": [
        "M1 = mol_list [0]\n",
        "M1"
      ],
      "execution_count": null,
      "outputs": []
    },
    {
      "cell_type": "code",
      "metadata": {
        "id": "LQEsaOZ113t0"
      },
      "source": [
        "M2 = mol_list [1]\n",
        "M2"
      ],
      "execution_count": null,
      "outputs": []
    },
    {
      "cell_type": "code",
      "metadata": {
        "id": "83eDOf1U2Tee"
      },
      "source": [
        "M3 = mol_list [2]\n",
        "M3"
      ],
      "execution_count": null,
      "outputs": []
    },
    {
      "cell_type": "code",
      "metadata": {
        "id": "v47eJUp22UBr"
      },
      "source": [
        "M4 = mol_list [3]\n",
        "M4"
      ],
      "execution_count": null,
      "outputs": []
    },
    {
      "cell_type": "code",
      "metadata": {
        "id": "iSRbqSNu2TQ8"
      },
      "source": [
        "M5 = mol_list [4]\n",
        "M5"
      ],
      "execution_count": null,
      "outputs": []
    },
    {
      "cell_type": "code",
      "metadata": {
        "id": "RFJGbkyz2TKC"
      },
      "source": [
        "M6 = mol_list [5]\n",
        "M6"
      ],
      "execution_count": null,
      "outputs": []
    },
    {
      "cell_type": "code",
      "metadata": {
        "id": "tAjOt7LUa6aI"
      },
      "source": [
        "M7 = mol_list [6]\n",
        "M7"
      ],
      "execution_count": null,
      "outputs": []
    },
    {
      "cell_type": "code",
      "metadata": {
        "id": "aNlbO0EOa6ew"
      },
      "source": [
        "M8 = mol_list [7]\n",
        "M8"
      ],
      "execution_count": null,
      "outputs": []
    },
    {
      "cell_type": "code",
      "metadata": {
        "id": "Wlv-WWE8a6jr"
      },
      "source": [
        "M9 = mol_list [8]\n",
        "M9"
      ],
      "execution_count": null,
      "outputs": []
    },
    {
      "cell_type": "code",
      "metadata": {
        "id": "p43tsS-ta6nK"
      },
      "source": [
        "M10 = mol_list [9]\n",
        "M10"
      ],
      "execution_count": null,
      "outputs": []
    },
    {
      "cell_type": "code",
      "metadata": {
        "id": "XAJ9MH6ha6sI"
      },
      "source": [
        "M11 = mol_list [10]\n",
        "M11"
      ],
      "execution_count": null,
      "outputs": []
    },
    {
      "cell_type": "code",
      "metadata": {
        "id": "FW8I7eGma6vv"
      },
      "source": [
        "M12 = mol_list [11]\n",
        "M12"
      ],
      "execution_count": null,
      "outputs": []
    },
    {
      "cell_type": "code",
      "metadata": {
        "id": "hqHfKfQOa60O"
      },
      "source": [
        "M13 = mol_list [12]\n",
        "M13"
      ],
      "execution_count": null,
      "outputs": []
    },
    {
      "cell_type": "code",
      "metadata": {
        "id": "1JbEdTAga64O"
      },
      "source": [
        "M14 = mol_list [13]\n",
        "M14"
      ],
      "execution_count": null,
      "outputs": []
    },
    {
      "cell_type": "code",
      "metadata": {
        "id": "tur-eemGa688"
      },
      "source": [
        "M15 = mol_list [14]\n",
        "M15"
      ],
      "execution_count": null,
      "outputs": []
    },
    {
      "cell_type": "code",
      "metadata": {
        "id": "TDLAKY9Aa7BK"
      },
      "source": [
        "M16 = mol_list [15]\n",
        "M16"
      ],
      "execution_count": null,
      "outputs": []
    },
    {
      "cell_type": "code",
      "metadata": {
        "id": "bxE3x639a7F4"
      },
      "source": [
        "M17 = mol_list [16]\n",
        "M17"
      ],
      "execution_count": null,
      "outputs": []
    },
    {
      "cell_type": "code",
      "metadata": {
        "id": "N7d_vSYaa7LT"
      },
      "source": [
        "M18 = mol_list [17]\n",
        "M18"
      ],
      "execution_count": null,
      "outputs": []
    },
    {
      "cell_type": "code",
      "metadata": {
        "id": "_5fYpGQua7PN"
      },
      "source": [
        "M19 = mol_list [18]\n",
        "M19"
      ],
      "execution_count": null,
      "outputs": []
    },
    {
      "cell_type": "code",
      "metadata": {
        "id": "edYA9EIXa7TM"
      },
      "source": [
        "M20 = mol_list [19]\n",
        "M20"
      ],
      "execution_count": null,
      "outputs": []
    },
    {
      "cell_type": "code",
      "metadata": {
        "id": "k9tlEPu8a7Xa"
      },
      "source": [
        "M21 = mol_list [20]\n",
        "M21"
      ],
      "execution_count": null,
      "outputs": []
    },
    {
      "cell_type": "code",
      "metadata": {
        "id": "h5ISsPzja7f-"
      },
      "source": [
        "M22 = mol_list [21]\n",
        "M22"
      ],
      "execution_count": null,
      "outputs": []
    },
    {
      "cell_type": "code",
      "metadata": {
        "id": "0E3nrKKza7kZ"
      },
      "source": [
        "M23 = mol_list [22]\n",
        "M23"
      ],
      "execution_count": null,
      "outputs": []
    },
    {
      "cell_type": "code",
      "metadata": {
        "id": "r_9O0AAza7oo"
      },
      "source": [
        "M24 = mol_list [23]\n",
        "M24"
      ],
      "execution_count": null,
      "outputs": []
    },
    {
      "cell_type": "code",
      "metadata": {
        "id": "oj7hpVr-a7tQ"
      },
      "source": [
        "M25 = mol_list [24]\n",
        "M25"
      ],
      "execution_count": null,
      "outputs": []
    },
    {
      "cell_type": "code",
      "metadata": {
        "id": "5hUMdISba7yA"
      },
      "source": [
        "M26 = mol_list [25]\n",
        "M26"
      ],
      "execution_count": null,
      "outputs": []
    },
    {
      "cell_type": "code",
      "metadata": {
        "id": "-e9UE_g2a72Y"
      },
      "source": [
        "M27 = mol_list [26]\n",
        "M27"
      ],
      "execution_count": null,
      "outputs": []
    },
    {
      "cell_type": "code",
      "metadata": {
        "id": "Y2k3cIGRa77k"
      },
      "source": [
        "M28 = mol_list [27]\n",
        "M28"
      ],
      "execution_count": null,
      "outputs": []
    },
    {
      "cell_type": "code",
      "metadata": {
        "id": "tSBgNQS4a82P"
      },
      "source": [
        "M29 = mol_list [28]\n",
        "M29"
      ],
      "execution_count": null,
      "outputs": []
    },
    {
      "cell_type": "code",
      "metadata": {
        "id": "q36o_MHRa89b"
      },
      "source": [
        "M30 = mol_list [29]\n",
        "M30"
      ],
      "execution_count": null,
      "outputs": []
    },
    {
      "cell_type": "code",
      "metadata": {
        "id": "wMc3Rcsna9EL"
      },
      "source": [
        "M31 = mol_list [30]\n",
        "M31"
      ],
      "execution_count": null,
      "outputs": []
    },
    {
      "cell_type": "code",
      "metadata": {
        "id": "VGbGXhOXa9-s"
      },
      "source": [
        "M32 = mol_list [31]\n",
        "M32"
      ],
      "execution_count": null,
      "outputs": []
    },
    {
      "cell_type": "code",
      "metadata": {
        "id": "Gxn0o_gNa-KL"
      },
      "source": [
        "M33 = mol_list [32]\n",
        "M33"
      ],
      "execution_count": null,
      "outputs": []
    },
    {
      "cell_type": "code",
      "metadata": {
        "id": "ChUmEynga-Xg"
      },
      "source": [
        "M34 = mol_list [33]\n",
        "M34"
      ],
      "execution_count": null,
      "outputs": []
    },
    {
      "cell_type": "code",
      "metadata": {
        "id": "U8YAoPqQa-gX"
      },
      "source": [
        "M35 = mol_list [34]\n",
        "M35"
      ],
      "execution_count": null,
      "outputs": []
    },
    {
      "cell_type": "code",
      "metadata": {
        "id": "4Ka-Nitta-pE"
      },
      "source": [
        "M36 = mol_list [35]\n",
        "M36"
      ],
      "execution_count": null,
      "outputs": []
    },
    {
      "cell_type": "code",
      "metadata": {
        "id": "-4MfEKT5ORf1"
      },
      "source": [
        "M37= mol_list [36]\n",
        "M37"
      ],
      "execution_count": null,
      "outputs": []
    },
    {
      "cell_type": "code",
      "metadata": {
        "id": "nEUYAN2Gc1CC"
      },
      "source": [
        "M38= mol_list [37]\n",
        "M38"
      ],
      "execution_count": null,
      "outputs": []
    },
    {
      "cell_type": "code",
      "metadata": {
        "id": "sZjhxuIIc1In"
      },
      "source": [
        "M39= mol_list [38]\n",
        "M39"
      ],
      "execution_count": null,
      "outputs": []
    },
    {
      "cell_type": "code",
      "metadata": {
        "id": "kyFfSYq9c1OY"
      },
      "source": [
        "M40= mol_list [39]\n",
        "M40"
      ],
      "execution_count": null,
      "outputs": []
    },
    {
      "cell_type": "code",
      "metadata": {
        "id": "j4k_04Ywc1TP"
      },
      "source": [
        "M41= mol_list [40]\n",
        "M41"
      ],
      "execution_count": null,
      "outputs": []
    },
    {
      "cell_type": "code",
      "metadata": {
        "id": "TfUWm_3yc1YU"
      },
      "source": [
        "M42= mol_list [41]\n",
        "M42"
      ],
      "execution_count": null,
      "outputs": []
    },
    {
      "cell_type": "code",
      "metadata": {
        "id": "rYOaTz9Yc1hj"
      },
      "source": [
        "M43= mol_list [42]\n",
        "M43"
      ],
      "execution_count": null,
      "outputs": []
    },
    {
      "cell_type": "code",
      "metadata": {
        "id": "9a7Plt9YORHr"
      },
      "source": [
        "M44= mol_list [43]\n",
        "M44"
      ],
      "execution_count": null,
      "outputs": []
    },
    {
      "cell_type": "code",
      "metadata": {
        "id": "y6S_NzVTOREn"
      },
      "source": [
        "M45= mol_list [44]\n",
        "M45"
      ],
      "execution_count": null,
      "outputs": []
    },
    {
      "cell_type": "code",
      "metadata": {
        "id": "LB2eMznbORBd"
      },
      "source": [
        "M46= mol_list [45]\n",
        "M46"
      ],
      "execution_count": null,
      "outputs": []
    },
    {
      "cell_type": "code",
      "metadata": {
        "id": "e59j18cMOQ92"
      },
      "source": [
        "M47= mol_list [46]\n",
        "M47"
      ],
      "execution_count": null,
      "outputs": []
    },
    {
      "cell_type": "code",
      "metadata": {
        "id": "EO5eAbX1OQ67"
      },
      "source": [
        "M48= mol_list [47]\n",
        "M48"
      ],
      "execution_count": null,
      "outputs": []
    },
    {
      "cell_type": "code",
      "metadata": {
        "id": "q5oGA50wOQ38"
      },
      "source": [
        "M49= mol_list [48]\n",
        "M49"
      ],
      "execution_count": null,
      "outputs": []
    },
    {
      "cell_type": "code",
      "metadata": {
        "id": "bPV8On5pOQ0G"
      },
      "source": [
        "M50= mol_list [49]\n",
        "M50"
      ],
      "execution_count": null,
      "outputs": []
    },
    {
      "cell_type": "code",
      "metadata": {
        "id": "hqUhTtpzxd45"
      },
      "source": [
        "bi = {}\n",
        "\n",
        "fp= AllChem.GetMorganFingerprintAsBitVect(M1, 2, nBits= 1024, bitInfo=bi)\n",
        "fp_arr = np.zeros((1,))\n",
        "DataStructs.ConvertToNumpyArray(fp, fp_arr)\n",
        "np.nonzero(fp_arr)\n",
        "list(fp.GetOnBits())"
      ],
      "execution_count": null,
      "outputs": []
    },
    {
      "cell_type": "code",
      "metadata": {
        "id": "Zsnow5DIPHVO"
      },
      "source": [
        "prints = [(M1, x, bi) for x in fp.GetOnBits()]\n",
        "Draw.DrawMorganBits(prints, molsPerRow =8, legends=[str(x) for x in fp.GetOnBits ()])"
      ],
      "execution_count": null,
      "outputs": []
    },
    {
      "cell_type": "code",
      "metadata": {
        "id": "RnBR7SV_dnzI"
      },
      "source": [
        "bi = {}\n",
        "\n",
        "fp2= AllChem.GetMorganFingerprintAsBitVect(M2, 2, nBits= 1024, bitInfo=bi)\n",
        "fp_arr = np.zeros((1,))\n",
        "DataStructs.ConvertToNumpyArray(fp2, fp_arr)\n",
        "np.nonzero(fp_arr)\n",
        "list(fp2.GetOnBits())"
      ],
      "execution_count": null,
      "outputs": []
    },
    {
      "cell_type": "code",
      "metadata": {
        "id": "RvpTokxddntJ"
      },
      "source": [
        "prints = [(M2, x, bi) for x in fp2.GetOnBits()]\n",
        "Draw.DrawMorganBits(prints, molsPerRow =8, legends=[str(x) for x in fp2.GetOnBits ()])"
      ],
      "execution_count": null,
      "outputs": []
    },
    {
      "cell_type": "code",
      "metadata": {
        "id": "Da-l_78M2PQc"
      },
      "source": [
        "bi = {}\n",
        "\n",
        "fp3= AllChem.GetMorganFingerprintAsBitVect(M3, 2, nBits= 1024, bitInfo=bi)\n",
        "fp_arr = np.zeros((1,))\n",
        "DataStructs.ConvertToNumpyArray(fp3, fp_arr)\n",
        "np.nonzero(fp_arr)\n",
        "list(fp3.GetOnBits())"
      ],
      "execution_count": null,
      "outputs": []
    },
    {
      "cell_type": "code",
      "metadata": {
        "id": "5cnVs_zJWJJC"
      },
      "source": [
        "prints = [(M3, x, bi) for x in fp3.GetOnBits()]\n",
        "Draw.DrawMorganBits(prints, molsPerRow =8, legends=[str(x) for x in fp3.GetOnBits ()])"
      ],
      "execution_count": null,
      "outputs": []
    },
    {
      "cell_type": "code",
      "metadata": {
        "id": "LJSHly0xFv4S"
      },
      "source": [
        "bi = {}\n",
        "\n",
        "fp4= AllChem.GetMorganFingerprintAsBitVect(M4, 2, nBits= 1024, bitInfo=bi)\n",
        "fp_arr = np.zeros((1,))\n",
        "DataStructs.ConvertToNumpyArray(fp4, fp_arr)\n",
        "np.nonzero(fp_arr)\n",
        "list(fp4.GetOnBits())"
      ],
      "execution_count": null,
      "outputs": []
    },
    {
      "cell_type": "code",
      "metadata": {
        "id": "ClwyyxWPFvs3"
      },
      "source": [
        "prints = [(M4, x, bi) for x in fp4.GetOnBits()]\n",
        "Draw.DrawMorganBits(prints, molsPerRow =8, legends=[str(x) for x in fp4.GetOnBits ()])"
      ],
      "execution_count": null,
      "outputs": []
    },
    {
      "cell_type": "code",
      "metadata": {
        "id": "NFj5DcD84Gnj"
      },
      "source": [
        "bi = {}\n",
        "\n",
        "fp5= AllChem.GetMorganFingerprintAsBitVect(M5, 2, nBits= 1024, bitInfo=bi)\n",
        "fp_arr = np.zeros((1,))\n",
        "DataStructs.ConvertToNumpyArray(fp5, fp_arr)\n",
        "np.nonzero(fp_arr)\n",
        "list(fp5.GetOnBits())"
      ],
      "execution_count": null,
      "outputs": []
    },
    {
      "cell_type": "code",
      "metadata": {
        "id": "kfH-qjL7fJMF"
      },
      "source": [
        "prints = [(M5, x, bi) for x in fp5.GetOnBits()]\n",
        "Draw.DrawMorganBits(prints, molsPerRow =8, legends=[str(x) for x in fp5.GetOnBits ()])"
      ],
      "execution_count": null,
      "outputs": []
    },
    {
      "cell_type": "code",
      "metadata": {
        "id": "kpXS-5ncypPr"
      },
      "source": [
        "bi = {}\n",
        "\n",
        "fp6= AllChem.GetMorganFingerprintAsBitVect(M6, 2, nBits= 1024, bitInfo=bi)\n",
        "fp_arr = np.zeros((1,))\n",
        "DataStructs.ConvertToNumpyArray(fp6, fp_arr)\n",
        "np.nonzero(fp_arr)\n",
        "list(fp6.GetOnBits())"
      ],
      "execution_count": null,
      "outputs": []
    },
    {
      "cell_type": "code",
      "metadata": {
        "id": "rYyjEiadypG6"
      },
      "source": [
        "prints = [(M6, x, bi) for x in fp6.GetOnBits()]\n",
        "Draw.DrawMorganBits(prints, molsPerRow =8, legends=[str(x) for x in fp6.GetOnBits ()])"
      ],
      "execution_count": null,
      "outputs": []
    },
    {
      "cell_type": "code",
      "metadata": {
        "id": "9aNil5or4YtN"
      },
      "source": [
        "bi = {}\n",
        "\n",
        "fp7= AllChem.GetMorganFingerprintAsBitVect(M7, 2, nBits= 1024, bitInfo=bi)\n",
        "fp_arr = np.zeros((1,))\n",
        "DataStructs.ConvertToNumpyArray(fp7, fp_arr)\n",
        "np.nonzero(fp_arr)\n",
        "list(fp7.GetOnBits())"
      ],
      "execution_count": null,
      "outputs": []
    },
    {
      "cell_type": "code",
      "metadata": {
        "id": "eBsK04wQPXYH"
      },
      "source": [
        "prints = [(M7, x, bi) for x in fp7.GetOnBits()]\n",
        "Draw.DrawMorganBits(prints, molsPerRow =8, legends=[str(x) for x in fp7.GetOnBits ()])"
      ],
      "execution_count": null,
      "outputs": []
    },
    {
      "cell_type": "code",
      "metadata": {
        "id": "VTmlSTSafXWr"
      },
      "source": [
        "bi = {}\n",
        "\n",
        "fp8= AllChem.GetMorganFingerprintAsBitVect(M8, 2, nBits= 1024, bitInfo=bi)\n",
        "fp_arr = np.zeros((1,))\n",
        "DataStructs.ConvertToNumpyArray(fp8, fp_arr)\n",
        "np.nonzero(fp_arr)\n",
        "list(fp8.GetOnBits())"
      ],
      "execution_count": null,
      "outputs": []
    },
    {
      "cell_type": "code",
      "metadata": {
        "id": "r1uVBWkreiBD"
      },
      "source": [
        "prints = [(M8, x, bi) for x in fp8.GetOnBits()]\n",
        "Draw.DrawMorganBits(prints, molsPerRow =8, legends=[str(x) for x in fp8.GetOnBits ()])\n"
      ],
      "execution_count": null,
      "outputs": []
    },
    {
      "cell_type": "code",
      "metadata": {
        "id": "qv6-21x54kMz"
      },
      "source": [
        "bi = {}\n",
        "\n",
        "fp9= AllChem.GetMorganFingerprintAsBitVect(M9, 2, nBits= 1024, bitInfo=bi)\n",
        "fp_arr = np.zeros((1,))\n",
        "DataStructs.ConvertToNumpyArray(fp9, fp_arr)\n",
        "np.nonzero(fp_arr)\n",
        "list(fp9.GetOnBits())"
      ],
      "execution_count": null,
      "outputs": []
    },
    {
      "cell_type": "code",
      "metadata": {
        "id": "chDamGV-6O-i"
      },
      "source": [
        "prints = [(M9, x, bi) for x in fp9.GetOnBits()]\n",
        "Draw.DrawMorganBits(prints, molsPerRow =8, legends=[str(x) for x in fp9.GetOnBits ()])"
      ],
      "execution_count": null,
      "outputs": []
    },
    {
      "cell_type": "code",
      "metadata": {
        "id": "t-5MflaR4p2O"
      },
      "source": [
        "bi = {}\n",
        "\n",
        "fp10= AllChem.GetMorganFingerprintAsBitVect(M10, 2, nBits= 1024, bitInfo=bi)\n",
        "fp_arr = np.zeros((1,))\n",
        "DataStructs.ConvertToNumpyArray(fp10, fp_arr)\n",
        "np.nonzero(fp_arr)\n",
        "list(fp10.GetOnBits())"
      ],
      "execution_count": null,
      "outputs": []
    },
    {
      "cell_type": "code",
      "metadata": {
        "id": "ppTTSiSbLV3H"
      },
      "source": [
        "prints = [(M10, x, bi) for x in fp10.GetOnBits()]\n",
        "Draw.DrawMorganBits(prints, molsPerRow =8, legends=[str(x) for x in fp10.GetOnBits ()])"
      ],
      "execution_count": null,
      "outputs": []
    },
    {
      "cell_type": "code",
      "metadata": {
        "id": "DRnoeJygy4E2"
      },
      "source": [
        "bi = {}\n",
        "\n",
        "fp11= AllChem.GetMorganFingerprintAsBitVect(M11, 2, nBits= 1024, bitInfo=bi)\n",
        "fp_arr = np.zeros((1,))\n",
        "DataStructs.ConvertToNumpyArray(fp11, fp_arr)\n",
        "np.nonzero(fp_arr)\n",
        "list(fp11.GetOnBits())"
      ],
      "execution_count": null,
      "outputs": []
    },
    {
      "cell_type": "code",
      "metadata": {
        "id": "kQPyx4Oeftos"
      },
      "source": [
        "prints = [(M11, x, bi) for x in fp11.GetOnBits()]\n",
        "Draw.DrawMorganBits(prints, molsPerRow =8, legends=[str(x) for x in fp11.GetOnBits ()])"
      ],
      "execution_count": null,
      "outputs": []
    },
    {
      "cell_type": "code",
      "metadata": {
        "id": "vIU5pd-GSBXt"
      },
      "source": [
        "bi = {}\n",
        "\n",
        "fp12= AllChem.GetMorganFingerprintAsBitVect(M12, 2, nBits= 1024, bitInfo=bi)\n",
        "fp_arr = np.zeros((1,))\n",
        "DataStructs.ConvertToNumpyArray(fp12, fp_arr)\n",
        "np.nonzero(fp_arr)\n",
        "list(fp12.GetOnBits())"
      ],
      "execution_count": null,
      "outputs": []
    },
    {
      "cell_type": "code",
      "metadata": {
        "id": "4_WHugOrYKjL"
      },
      "source": [
        "prints = [(M12, x, bi) for x in fp12.GetOnBits()]\n",
        "Draw.DrawMorganBits(prints, molsPerRow =8, legends=[str(x) for x in fp12.GetOnBits ()])"
      ],
      "execution_count": null,
      "outputs": []
    },
    {
      "cell_type": "code",
      "metadata": {
        "id": "EC7k13G8SH-k"
      },
      "source": [
        "bi = {}\n",
        "\n",
        "fp13= AllChem.GetMorganFingerprintAsBitVect(M13, 2, nBits= 1024, bitInfo=bi)\n",
        "fp_arr = np.zeros((1,))\n",
        "DataStructs.ConvertToNumpyArray(fp13, fp_arr)\n",
        "np.nonzero(fp_arr)\n",
        "list(fp13.GetOnBits())"
      ],
      "execution_count": null,
      "outputs": []
    },
    {
      "cell_type": "code",
      "metadata": {
        "id": "63hUIWGAeusG"
      },
      "source": [
        "prints = [(M13, x, bi) for x in fp13.GetOnBits()]\n",
        "Draw.DrawMorganBits(prints, molsPerRow =8, legends=[str(x) for x in fp13.GetOnBits ()])"
      ],
      "execution_count": null,
      "outputs": []
    },
    {
      "cell_type": "code",
      "metadata": {
        "id": "5Pqg8p6SSH5m"
      },
      "source": [
        "bi = {}\n",
        "\n",
        "fp14= AllChem.GetMorganFingerprintAsBitVect(M14, 2, nBits= 1024, bitInfo=bi)\n",
        "fp_arr = np.zeros((1,))\n",
        "DataStructs.ConvertToNumpyArray(fp14, fp_arr)\n",
        "np.nonzero(fp_arr)\n",
        "list(fp14.GetOnBits())"
      ],
      "execution_count": null,
      "outputs": []
    },
    {
      "cell_type": "code",
      "metadata": {
        "id": "GavsO81zYa2n"
      },
      "source": [
        "prints = [(M14, x, bi) for x in fp14.GetOnBits()]\n",
        "Draw.DrawMorganBits(prints, molsPerRow =8, legends=[str(x) for x in fp14.GetOnBits ()])"
      ],
      "execution_count": null,
      "outputs": []
    },
    {
      "cell_type": "code",
      "metadata": {
        "id": "aqxfY_gYgC_m"
      },
      "source": [
        "bi = {}\n",
        "\n",
        "fp15= AllChem.GetMorganFingerprintAsBitVect(M15, 2, nBits= 1024, bitInfo=bi)\n",
        "fp_arr = np.zeros((1,))\n",
        "DataStructs.ConvertToNumpyArray(fp15, fp_arr)\n",
        "np.nonzero(fp_arr)\n",
        "list(fp15.GetOnBits())"
      ],
      "execution_count": null,
      "outputs": []
    },
    {
      "cell_type": "code",
      "metadata": {
        "id": "M_cPJKt6YgYU"
      },
      "source": [
        "prints = [(M15, x, bi) for x in fp15.GetOnBits()]\n",
        "Draw.DrawMorganBits(prints, molsPerRow =8, legends=[str(x) for x in fp15.GetOnBits ()])"
      ],
      "execution_count": null,
      "outputs": []
    },
    {
      "cell_type": "code",
      "metadata": {
        "id": "O4T9R4fdgLEt"
      },
      "source": [
        "bi = {}\n",
        "\n",
        "fp16= AllChem.GetMorganFingerprintAsBitVect(M16, 2, nBits= 1024, bitInfo=bi)\n",
        "fp_arr = np.zeros((1,))\n",
        "DataStructs.ConvertToNumpyArray(fp16, fp_arr)\n",
        "np.nonzero(fp_arr)\n",
        "list(fp16.GetOnBits())"
      ],
      "execution_count": null,
      "outputs": []
    },
    {
      "cell_type": "code",
      "metadata": {
        "id": "MUXpAkuugMXn"
      },
      "source": [
        "prints = [(M16, x, bi) for x in fp16.GetOnBits()]\n",
        "Draw.DrawMorganBits(prints, molsPerRow =8, legends=[str(x) for x in fp16.GetOnBits ()])"
      ],
      "execution_count": null,
      "outputs": []
    },
    {
      "cell_type": "code",
      "metadata": {
        "id": "4EScheSSSHtK"
      },
      "source": [
        "bi = {}\n",
        "\n",
        "fp17= AllChem.GetMorganFingerprintAsBitVect(M17, 2, nBits= 1024, bitInfo=bi)\n",
        "fp_arr = np.zeros((1,))\n",
        "DataStructs.ConvertToNumpyArray(fp17, fp_arr)\n",
        "np.nonzero(fp_arr)\n",
        "list(fp17.GetOnBits())"
      ],
      "execution_count": null,
      "outputs": []
    },
    {
      "cell_type": "code",
      "metadata": {
        "id": "ZmTDTzeXVUaf"
      },
      "source": [
        "prints = [(M17, x, bi) for x in fp17.GetOnBits()]\n",
        "Draw.DrawMorganBits(prints, molsPerRow =8, legends=[str(x) for x in fp17.GetOnBits ()])"
      ],
      "execution_count": null,
      "outputs": []
    },
    {
      "cell_type": "code",
      "metadata": {
        "id": "v9PZWMtfSHou"
      },
      "source": [
        "bi = {}\n",
        "\n",
        "fp18= AllChem.GetMorganFingerprintAsBitVect(M18, 2, nBits= 1024, bitInfo=bi)\n",
        "fp_arr = np.zeros((1,))\n",
        "DataStructs.ConvertToNumpyArray(fp18, fp_arr)\n",
        "np.nonzero(fp_arr)\n",
        "list(fp18.GetOnBits())"
      ],
      "execution_count": null,
      "outputs": []
    },
    {
      "cell_type": "code",
      "metadata": {
        "id": "MbcQENkle2Wd"
      },
      "source": [
        "prints = [(M18, x, bi) for x in fp18.GetOnBits()]\n",
        "Draw.DrawMorganBits(prints, molsPerRow =8, legends=[str(x) for x in fp18.GetOnBits ()])"
      ],
      "execution_count": null,
      "outputs": []
    },
    {
      "cell_type": "code",
      "metadata": {
        "id": "laZr3SEiSHkD"
      },
      "source": [
        "bi = {}\n",
        "\n",
        "fp19= AllChem.GetMorganFingerprintAsBitVect(M19, 2, nBits= 1024, bitInfo=bi)\n",
        "fp_arr = np.zeros((1,))\n",
        "DataStructs.ConvertToNumpyArray(fp19, fp_arr)\n",
        "np.nonzero(fp_arr)\n",
        "list(fp19.GetOnBits())"
      ],
      "execution_count": null,
      "outputs": []
    },
    {
      "cell_type": "code",
      "metadata": {
        "id": "VzV-o9z-ZEAw"
      },
      "source": [
        "prints = [(M19, x, bi) for x in fp19.GetOnBits()]\n",
        "Draw.DrawMorganBits(prints, molsPerRow =8, legends=[str(x) for x in fp19.GetOnBits ()])"
      ],
      "execution_count": null,
      "outputs": []
    },
    {
      "cell_type": "code",
      "metadata": {
        "id": "Ym-gedFWSHf-"
      },
      "source": [
        "bi = {}\n",
        "\n",
        "fp20= AllChem.GetMorganFingerprintAsBitVect(M20, 2, nBits= 1024, bitInfo=bi)\n",
        "fp_arr = np.zeros((1,))\n",
        "DataStructs.ConvertToNumpyArray(fp20, fp_arr)\n",
        "np.nonzero(fp_arr)\n",
        "list(fp20.GetOnBits())"
      ],
      "execution_count": null,
      "outputs": []
    },
    {
      "cell_type": "code",
      "metadata": {
        "id": "E3VfjCrBruqf"
      },
      "source": [
        "prints = [(M20, x, bi) for x in fp20.GetOnBits()]\n",
        "Draw.DrawMorganBits(prints, molsPerRow =8, legends=[str(x) for x in fp20.GetOnBits ()])"
      ],
      "execution_count": null,
      "outputs": []
    },
    {
      "cell_type": "code",
      "metadata": {
        "id": "lpap2LmKSHbz"
      },
      "source": [
        "bi = {}\n",
        "\n",
        "fp21= AllChem.GetMorganFingerprintAsBitVect(M21, 2, nBits= 1024, bitInfo=bi)\n",
        "fp_arr = np.zeros((1,))\n",
        "DataStructs.ConvertToNumpyArray(fp21, fp_arr)\n",
        "np.nonzero(fp_arr)\n",
        "list(fp21.GetOnBits())"
      ],
      "execution_count": null,
      "outputs": []
    },
    {
      "cell_type": "code",
      "metadata": {
        "id": "vmGzFYz3agS4"
      },
      "source": [
        "prints = [(M21, x, bi) for x in fp21.GetOnBits()]\n",
        "Draw.DrawMorganBits(prints, molsPerRow =8, legends=[str(x) for x in fp21.GetOnBits ()])"
      ],
      "execution_count": null,
      "outputs": []
    },
    {
      "cell_type": "code",
      "metadata": {
        "id": "m9Ykk4Q4SHX0"
      },
      "source": [
        "bi = {}\n",
        "\n",
        "fp22= AllChem.GetMorganFingerprintAsBitVect(M22, 2, nBits= 1024, bitInfo=bi)\n",
        "fp_arr = np.zeros((1,))\n",
        "DataStructs.ConvertToNumpyArray(fp22, fp_arr)\n",
        "np.nonzero(fp_arr)\n",
        "list(fp22.GetOnBits())"
      ],
      "execution_count": null,
      "outputs": []
    },
    {
      "cell_type": "code",
      "metadata": {
        "id": "P4g6XG6DahZC"
      },
      "source": [
        "prints = [(M22, x, bi) for x in fp22.GetOnBits()]\n",
        "Draw.DrawMorganBits(prints, molsPerRow =8, legends=[str(x) for x in fp22.GetOnBits ()])"
      ],
      "execution_count": null,
      "outputs": []
    },
    {
      "cell_type": "code",
      "metadata": {
        "id": "bK8ZSwuZSHS2"
      },
      "source": [
        "bi = {}\n",
        "\n",
        "fp23= AllChem.GetMorganFingerprintAsBitVect(M23, 2, nBits= 1024, bitInfo=bi)\n",
        "fp_arr = np.zeros((1,))\n",
        "DataStructs.ConvertToNumpyArray(fp23, fp_arr)\n",
        "np.nonzero(fp_arr)\n",
        "list(fp23.GetOnBits())"
      ],
      "execution_count": null,
      "outputs": []
    },
    {
      "cell_type": "code",
      "metadata": {
        "id": "uzJqEDW7ainM"
      },
      "source": [
        "prints = [(M23, x, bi) for x in fp23.GetOnBits()]\n",
        "Draw.DrawMorganBits(prints, molsPerRow =8, legends=[str(x) for x in fp23.GetOnBits ()])"
      ],
      "execution_count": null,
      "outputs": []
    },
    {
      "cell_type": "code",
      "metadata": {
        "id": "t0A0BsZdSHOx"
      },
      "source": [
        "bi = {}\n",
        "\n",
        "fp24= AllChem.GetMorganFingerprintAsBitVect(M24, 2, nBits= 1024, bitInfo=bi)\n",
        "fp_arr = np.zeros((1,))\n",
        "DataStructs.ConvertToNumpyArray(fp24, fp_arr)\n",
        "np.nonzero(fp_arr)\n",
        "list(fp24.GetOnBits())"
      ],
      "execution_count": null,
      "outputs": []
    },
    {
      "cell_type": "code",
      "metadata": {
        "id": "mKvorr4uajdJ"
      },
      "source": [
        "prints = [(M24, x, bi) for x in fp24.GetOnBits()]\n",
        "Draw.DrawMorganBits(prints, molsPerRow =8, legends=[str(x) for x in fp24.GetOnBits ()])"
      ],
      "execution_count": null,
      "outputs": []
    },
    {
      "cell_type": "code",
      "metadata": {
        "id": "bxFmdN4aSHK3"
      },
      "source": [
        "bi = {}\n",
        "\n",
        "fp25= AllChem.GetMorganFingerprintAsBitVect(M25, 2, nBits= 1024, bitInfo=bi)\n",
        "fp_arr = np.zeros((1,))\n",
        "DataStructs.ConvertToNumpyArray(fp25, fp_arr)\n",
        "np.nonzero(fp_arr)\n",
        "list(fp25.GetOnBits())"
      ],
      "execution_count": null,
      "outputs": []
    },
    {
      "cell_type": "code",
      "metadata": {
        "id": "fsytJn6Ig8DR"
      },
      "source": [
        "prints = [(M25, x, bi) for x in fp25.GetOnBits()]\n",
        "Draw.DrawMorganBits(prints, molsPerRow =8, legends=[str(x) for x in fp25.GetOnBits ()])"
      ],
      "execution_count": null,
      "outputs": []
    },
    {
      "cell_type": "code",
      "metadata": {
        "id": "89-nBa_wSHGz"
      },
      "source": [
        "bi = {}\n",
        "\n",
        "fp26= AllChem.GetMorganFingerprintAsBitVect(M26, 2, nBits= 1024, bitInfo=bi)\n",
        "fp_arr = np.zeros((1,))\n",
        "DataStructs.ConvertToNumpyArray(fp26, fp_arr)\n",
        "np.nonzero(fp_arr)\n",
        "list(fp26.GetOnBits())"
      ],
      "execution_count": null,
      "outputs": []
    },
    {
      "cell_type": "code",
      "metadata": {
        "id": "BD6T1LUcg7ga"
      },
      "source": [
        "prints = [(M26, x, bi) for x in fp26.GetOnBits()]\n",
        "Draw.DrawMorganBits(prints, molsPerRow =8, legends=[str(x) for x in fp267.GetOnBits ()])"
      ],
      "execution_count": null,
      "outputs": []
    },
    {
      "cell_type": "code",
      "metadata": {
        "id": "Ag61397lSHC5"
      },
      "source": [
        "bi = {}\n",
        "\n",
        "fp27= AllChem.GetMorganFingerprintAsBitVect(M27, 2, nBits= 1024, bitInfo=bi)\n",
        "fp_arr = np.zeros((1,))\n",
        "DataStructs.ConvertToNumpyArray(fp27, fp_arr)\n",
        "np.nonzero(fp_arr)\n",
        "list(fp27.GetOnBits())"
      ],
      "execution_count": null,
      "outputs": []
    },
    {
      "cell_type": "code",
      "metadata": {
        "id": "MSWdSK6Zamdp"
      },
      "source": [
        "prints = [(M27, x, bi) for x in fp27.GetOnBits()]\n",
        "Draw.DrawMorganBits(prints, molsPerRow =8, legends=[str(x) for x in fp27.GetOnBits ()])"
      ],
      "execution_count": null,
      "outputs": []
    },
    {
      "cell_type": "code",
      "metadata": {
        "id": "nuoz2hBgSG-E"
      },
      "source": [
        "bi = {}\n",
        "\n",
        "fp28= AllChem.GetMorganFingerprintAsBitVect(M28, 2, nBits= 1024, bitInfo=bi)\n",
        "fp_arr = np.zeros((1,))\n",
        "DataStructs.ConvertToNumpyArray(fp28, fp_arr)\n",
        "np.nonzero(fp_arr)\n",
        "list(fp28.GetOnBits())"
      ],
      "execution_count": null,
      "outputs": []
    },
    {
      "cell_type": "code",
      "metadata": {
        "id": "1dsbWJZ1anQV"
      },
      "source": [
        "prints = [(M28, x, bi) for x in fp28.GetOnBits()]\n",
        "Draw.DrawMorganBits(prints, molsPerRow =8, legends=[str(x) for x in fp28.GetOnBits ()])"
      ],
      "execution_count": null,
      "outputs": []
    },
    {
      "cell_type": "code",
      "metadata": {
        "id": "W4SVdP3wSG6E"
      },
      "source": [
        "bi = {}\n",
        "\n",
        "fp29= AllChem.GetMorganFingerprintAsBitVect(M29, 2, nBits= 1024, bitInfo=bi)\n",
        "fp_arr = np.zeros((1,))\n",
        "DataStructs.ConvertToNumpyArray(fp29, fp_arr)\n",
        "np.nonzero(fp_arr)\n",
        "list(fp29.GetOnBits())"
      ],
      "execution_count": null,
      "outputs": []
    },
    {
      "cell_type": "code",
      "metadata": {
        "id": "7eNv58nsaolg"
      },
      "source": [
        "prints = [(M29, x, bi) for x in fp29.GetOnBits()]\n",
        "Draw.DrawMorganBits(prints, molsPerRow =8, legends=[str(x) for x in fp29.GetOnBits ()])"
      ],
      "execution_count": null,
      "outputs": []
    },
    {
      "cell_type": "code",
      "metadata": {
        "id": "p71MhhwqhS2M"
      },
      "source": [
        "bi = {}\n",
        "\n",
        "fp30= AllChem.GetMorganFingerprintAsBitVect(M30, 2, nBits= 1024, bitInfo=bi)\n",
        "fp_arr = np.zeros((1,))\n",
        "DataStructs.ConvertToNumpyArray(fp30, fp_arr)\n",
        "np.nonzero(fp_arr)\n",
        "list(fp30.GetOnBits())"
      ],
      "execution_count": null,
      "outputs": []
    },
    {
      "cell_type": "code",
      "metadata": {
        "id": "IzezuzI2ap07"
      },
      "source": [
        "prints = [(M30, x, bi) for x in fp30.GetOnBits()]\n",
        "Draw.DrawMorganBits(prints, molsPerRow =8, legends=[str(x) for x in fp30.GetOnBits ()])"
      ],
      "execution_count": null,
      "outputs": []
    },
    {
      "cell_type": "code",
      "metadata": {
        "id": "EVdT5nHDhTtm"
      },
      "source": [
        "bi = {}\n",
        "\n",
        "fp31= AllChem.GetMorganFingerprintAsBitVect(M31, 2, nBits= 1024, bitInfo=bi)\n",
        "fp_arr = np.zeros((1,))\n",
        "DataStructs.ConvertToNumpyArray(fp31, fp_arr)\n",
        "np.nonzero(fp_arr)\n",
        "list(fp31.GetOnBits())"
      ],
      "execution_count": null,
      "outputs": []
    },
    {
      "cell_type": "code",
      "metadata": {
        "id": "HFG76Ceeaqzr"
      },
      "source": [
        "prints = [(M31, x, bi) for x in fp31.GetOnBits()]\n",
        "Draw.DrawMorganBits(prints, molsPerRow =8, legends=[str(x) for x in fp31.GetOnBits ()])"
      ],
      "execution_count": null,
      "outputs": []
    },
    {
      "cell_type": "code",
      "metadata": {
        "id": "JAg9nsx2eyhj"
      },
      "source": [
        "bi = {}\n",
        "\n",
        "fp32= AllChem.GetMorganFingerprintAsBitVect(M32, 2, nBits= 1024, bitInfo=bi)\n",
        "fp_arr = np.zeros((1,))\n",
        "DataStructs.ConvertToNumpyArray(fp32, fp_arr)\n",
        "np.nonzero(fp_arr)\n",
        "list(fp32.GetOnBits())"
      ],
      "execution_count": null,
      "outputs": []
    },
    {
      "cell_type": "code",
      "metadata": {
        "id": "LWDpsTxfaspD"
      },
      "source": [
        "prints = [(M32, x, bi) for x in fp32.GetOnBits()]\n",
        "Draw.DrawMorganBits(prints, molsPerRow =8, legends=[str(x) for x in fp32.GetOnBits ()])"
      ],
      "execution_count": null,
      "outputs": []
    },
    {
      "cell_type": "code",
      "metadata": {
        "id": "c2nMfy5MSGpR"
      },
      "source": [
        "bi = {}\n",
        "\n",
        "fp33= AllChem.GetMorganFingerprintAsBitVect(M33, 2, nBits= 1024, bitInfo=bi)\n",
        "fp_arr = np.zeros((1,))\n",
        "DataStructs.ConvertToNumpyArray(fp33, fp_arr)\n",
        "np.nonzero(fp_arr)\n",
        "list(fp33.GetOnBits())"
      ],
      "execution_count": null,
      "outputs": []
    },
    {
      "cell_type": "code",
      "metadata": {
        "id": "DyULd4Bzhp7i"
      },
      "source": [
        "prints = [(M33, x, bi) for x in fp33.GetOnBits()]\n",
        "Draw.DrawMorganBits(prints, molsPerRow =8, legends=[str(x) for x in fp33.GetOnBits ()])"
      ],
      "execution_count": null,
      "outputs": []
    },
    {
      "cell_type": "code",
      "metadata": {
        "id": "dYkUcAMrSGlZ"
      },
      "source": [
        "bi = {}\n",
        "\n",
        "fp34= AllChem.GetMorganFingerprintAsBitVect(M34, 2, nBits= 1024, bitInfo=bi)\n",
        "fp_arr = np.zeros((1,))\n",
        "DataStructs.ConvertToNumpyArray(fp34, fp_arr)\n",
        "np.nonzero(fp_arr)\n",
        "list(fp34.GetOnBits())"
      ],
      "execution_count": null,
      "outputs": []
    },
    {
      "cell_type": "code",
      "metadata": {
        "id": "cGTXy7A_atca"
      },
      "source": [
        "prints = [(M34, x, bi) for x in fp34.GetOnBits()]\n",
        "Draw.DrawMorganBits(prints, molsPerRow =8, legends=[str(x) for x in fp34.GetOnBits ()])"
      ],
      "execution_count": null,
      "outputs": []
    },
    {
      "cell_type": "code",
      "metadata": {
        "id": "OBhcX3VSSGhn"
      },
      "source": [
        "bi = {}\n",
        "\n",
        "fp35= AllChem.GetMorganFingerprintAsBitVect(M35, 2, nBits= 1024, bitInfo=bi)\n",
        "fp_arr = np.zeros((1,))\n",
        "DataStructs.ConvertToNumpyArray(fp35, fp_arr)\n",
        "np.nonzero(fp_arr)\n",
        "list(fp35.GetOnBits())"
      ],
      "execution_count": null,
      "outputs": []
    },
    {
      "cell_type": "code",
      "metadata": {
        "id": "4W1mF5e1aupW"
      },
      "source": [
        "prints = [(M35, x, bi) for x in fp35.GetOnBits()]\n",
        "Draw.DrawMorganBits(prints, molsPerRow =8, legends=[str(x) for x in fp35.GetOnBits ()])"
      ],
      "execution_count": null,
      "outputs": []
    },
    {
      "cell_type": "code",
      "metadata": {
        "id": "WZ2bXaaoSGd8"
      },
      "source": [
        "bi = {}\n",
        "\n",
        "fp36= AllChem.GetMorganFingerprintAsBitVect(M36, 2, nBits= 1024, bitInfo=bi)\n",
        "fp_arr = np.zeros((1,))\n",
        "DataStructs.ConvertToNumpyArray(fp36, fp_arr)\n",
        "np.nonzero(fp_arr)\n",
        "list(fp36.GetOnBits())"
      ],
      "execution_count": null,
      "outputs": []
    },
    {
      "cell_type": "code",
      "metadata": {
        "id": "yl13Y3wH8WKM"
      },
      "source": [
        "prints = [(M36, x, bi) for x in fp36.GetOnBits()]\n",
        "Draw.DrawMorganBits(prints, molsPerRow =8, legends=[str(x) for x in fp36.GetOnBits ()])"
      ],
      "execution_count": null,
      "outputs": []
    },
    {
      "cell_type": "code",
      "metadata": {
        "id": "5qdtTqsISGZ3"
      },
      "source": [
        "bi = {}\n",
        "\n",
        "fp37= AllChem.GetMorganFingerprintAsBitVect(M37, 2, nBits= 1024, bitInfo=bi)\n",
        "fp_arr = np.zeros((1,))\n",
        "DataStructs.ConvertToNumpyArray(fp37, fp_arr)\n",
        "np.nonzero(fp_arr)\n",
        "list(fp37.GetOnBits())"
      ],
      "execution_count": null,
      "outputs": []
    },
    {
      "cell_type": "code",
      "metadata": {
        "id": "A1gkT7_vayGG"
      },
      "source": [
        "prints = [(M37, x, bi) for x in fp37.GetOnBits()]\n",
        "Draw.DrawMorganBits(prints, molsPerRow =8, legends=[str(x) for x in fp37.GetOnBits ()])"
      ],
      "execution_count": null,
      "outputs": []
    },
    {
      "cell_type": "code",
      "metadata": {
        "id": "tuBIy2dcSGVT"
      },
      "source": [
        "bi = {}\n",
        "\n",
        "fp38= AllChem.GetMorganFingerprintAsBitVect(M38, 2, nBits= 1024, bitInfo=bi)\n",
        "fp_arr = np.zeros((1,))\n",
        "DataStructs.ConvertToNumpyArray(fp38, fp_arr)\n",
        "np.nonzero(fp_arr)\n",
        "list(fp38.GetOnBits())"
      ],
      "execution_count": null,
      "outputs": []
    },
    {
      "cell_type": "code",
      "metadata": {
        "id": "Q7_4Qt4fiEk0"
      },
      "source": [
        "prints = [(M38, x, bi) for x in fp38.GetOnBits()]\n",
        "Draw.DrawMorganBits(prints, molsPerRow =8, legends=[str(x) for x in fp38.GetOnBits ()])"
      ],
      "execution_count": null,
      "outputs": []
    },
    {
      "cell_type": "code",
      "metadata": {
        "id": "69ssC8rMSGRr"
      },
      "source": [
        "bi = {}\n",
        "\n",
        "fp39= AllChem.GetMorganFingerprintAsBitVect(M39, 2, nBits= 1024, bitInfo=bi)\n",
        "fp_arr = np.zeros((1,))\n",
        "DataStructs.ConvertToNumpyArray(fp39, fp_arr)\n",
        "np.nonzero(fp_arr)\n",
        "list(fp3.GetOnBits())"
      ],
      "execution_count": null,
      "outputs": []
    },
    {
      "cell_type": "code",
      "metadata": {
        "id": "ophe0VFoiF9o"
      },
      "source": [
        "prints = [(M39, x, bi) for x in fp39.GetOnBits()]\n",
        "Draw.DrawMorganBits(prints, molsPerRow =8, legends=[str(x) for x in fp39.GetOnBits ()])"
      ],
      "execution_count": null,
      "outputs": []
    },
    {
      "cell_type": "code",
      "metadata": {
        "id": "X1IBNRLKSGNv"
      },
      "source": [
        "bi = {}\n",
        "\n",
        "fp40= AllChem.GetMorganFingerprintAsBitVect(M40, 2, nBits= 1024, bitInfo=bi)\n",
        "fp_arr = np.zeros((1,))\n",
        "DataStructs.ConvertToNumpyArray(fp40, fp_arr)\n",
        "np.nonzero(fp_arr)\n",
        "list(fp40.GetOnBits())"
      ],
      "execution_count": null,
      "outputs": []
    },
    {
      "cell_type": "code",
      "metadata": {
        "id": "0RsHTMy4iSBK"
      },
      "source": [
        "prints = [(M40, x, bi) for x in fp40.GetOnBits()]\n",
        "Draw.DrawMorganBits(prints, molsPerRow =8, legends=[str(x) for x in fp40.GetOnBits ()])"
      ],
      "execution_count": null,
      "outputs": []
    },
    {
      "cell_type": "code",
      "metadata": {
        "id": "IVJ1XiVsiPpZ"
      },
      "source": [
        "bi = {}\n",
        "\n",
        "fp41= AllChem.GetMorganFingerprintAsBitVect(M41, 2, nBits= 1024, bitInfo=bi)\n",
        "fp_arr = np.zeros((1,))\n",
        "DataStructs.ConvertToNumpyArray(fp41, fp_arr)\n",
        "np.nonzero(fp_arr)\n",
        "list(fp41.GetOnBits())"
      ],
      "execution_count": null,
      "outputs": []
    },
    {
      "cell_type": "code",
      "metadata": {
        "id": "ZjihzLVga0ZV"
      },
      "source": [
        "prints = [(M41, x, bi) for x in fp41.GetOnBits()]\n",
        "Draw.DrawMorganBits(prints, molsPerRow =8, legends=[str(x) for x in fp41.GetOnBits ()])"
      ],
      "execution_count": null,
      "outputs": []
    },
    {
      "cell_type": "code",
      "metadata": {
        "id": "Gw4DBiUxSGGb"
      },
      "source": [
        "bi = {}\n",
        "\n",
        "fp42= AllChem.GetMorganFingerprintAsBitVect(M42, 2, nBits= 1024, bitInfo=bi)\n",
        "fp_arr = np.zeros((1,))\n",
        "DataStructs.ConvertToNumpyArray(fp42, fp_arr)\n",
        "np.nonzero(fp_arr)\n",
        "list(fp42.GetOnBits())"
      ],
      "execution_count": null,
      "outputs": []
    },
    {
      "cell_type": "code",
      "metadata": {
        "id": "9QmSGmuniiEO"
      },
      "source": [
        "prints = [(M42, x, bi) for x in fp42.GetOnBits()]\n",
        "Draw.DrawMorganBits(prints, molsPerRow =8, legends=[str(x) for x in fp42.GetOnBits ()])"
      ],
      "execution_count": null,
      "outputs": []
    },
    {
      "cell_type": "code",
      "metadata": {
        "id": "eb9FNwP2SGCA"
      },
      "source": [
        "bi = {}\n",
        "\n",
        "fp43= AllChem.GetMorganFingerprintAsBitVect(M43, 2, nBits= 1024, bitInfo=bi)\n",
        "fp_arr = np.zeros((1,))\n",
        "DataStructs.ConvertToNumpyArray(fp43, fp_arr)\n",
        "np.nonzero(fp_arr)\n",
        "list(fp43.GetOnBits())"
      ],
      "execution_count": null,
      "outputs": []
    },
    {
      "cell_type": "code",
      "metadata": {
        "id": "W5960bm3kuuY"
      },
      "source": [
        "prints = [(M43, x, bi) for x in fp43.GetOnBits()]\n",
        "Draw.DrawMorganBits(prints, molsPerRow =8, legends=[str(x) for x in fp43.GetOnBits ()])"
      ],
      "execution_count": null,
      "outputs": []
    },
    {
      "cell_type": "code",
      "metadata": {
        "id": "Dk8L5bj2SF8Y"
      },
      "source": [
        "bi = {}\n",
        "\n",
        "fp44= AllChem.GetMorganFingerprintAsBitVect(M44, 2, nBits= 1024, bitInfo=bi)\n",
        "fp_arr = np.zeros((1,))\n",
        "DataStructs.ConvertToNumpyArray(fp44, fp_arr)\n",
        "np.nonzero(fp_arr)\n",
        "list(fp44.GetOnBits())"
      ],
      "execution_count": null,
      "outputs": []
    },
    {
      "cell_type": "code",
      "metadata": {
        "id": "cw9vjjShX5CT"
      },
      "source": [
        "prints = [(M44, x, bi) for x in fp44.GetOnBits()]\n",
        "Draw.DrawMorganBits(prints, molsPerRow =8, legends=[str(x) for x in fp44.GetOnBits ()])"
      ],
      "execution_count": null,
      "outputs": []
    },
    {
      "cell_type": "code",
      "metadata": {
        "id": "2tnban6JSF1A"
      },
      "source": [
        "bi = {}\n",
        "\n",
        "fp45= AllChem.GetMorganFingerprintAsBitVect(M45, 2, nBits= 1024, bitInfo=bi)\n",
        "fp_arr = np.zeros((1,))\n",
        "DataStructs.ConvertToNumpyArray(fp45, fp_arr)\n",
        "np.nonzero(fp_arr)\n",
        "list(fp45.GetOnBits())"
      ],
      "execution_count": null,
      "outputs": []
    },
    {
      "cell_type": "code",
      "metadata": {
        "id": "zlCFQgjnixmR"
      },
      "source": [
        "prints = [(M45, x, bi) for x in fp45.GetOnBits()]\n",
        "Draw.DrawMorganBits(prints, molsPerRow =8, legends=[str(x) for x in fp45.GetOnBits ()])"
      ],
      "execution_count": null,
      "outputs": []
    },
    {
      "cell_type": "code",
      "metadata": {
        "id": "16MfD2n_SFvn"
      },
      "source": [
        "bi = {}\n",
        "\n",
        "fp46= AllChem.GetMorganFingerprintAsBitVect(M46, 2, nBits= 1024, bitInfo=bi)\n",
        "fp_arr = np.zeros((1,))\n",
        "DataStructs.ConvertToNumpyArray(fp46, fp_arr)\n",
        "np.nonzero(fp_arr)\n",
        "list(fp46.GetOnBits())"
      ],
      "execution_count": null,
      "outputs": []
    },
    {
      "cell_type": "code",
      "metadata": {
        "id": "gs0DGDx-Skqw"
      },
      "source": [
        "prints = [(M46, x, bi) for x in fp46.GetOnBits()]\n",
        "Draw.DrawMorganBits(prints, molsPerRow =8, legends=[str(x) for x in fp46.GetOnBits ()])"
      ],
      "execution_count": null,
      "outputs": []
    },
    {
      "cell_type": "code",
      "metadata": {
        "id": "yLORMhnCSFrn"
      },
      "source": [
        "bi = {}\n",
        "\n",
        "fp47= AllChem.GetMorganFingerprintAsBitVect(M47, 2, nBits= 1024, bitInfo=bi)\n",
        "fp_arr = np.zeros((1,))\n",
        "DataStructs.ConvertToNumpyArray(fp47, fp_arr)\n",
        "np.nonzero(fp_arr)\n",
        "list(fp47.GetOnBits())"
      ],
      "execution_count": null,
      "outputs": []
    },
    {
      "cell_type": "code",
      "metadata": {
        "id": "ixwox-WZa5VF"
      },
      "source": [
        "prints = [(M47, x, bi) for x in fp47.GetOnBits()]\n",
        "Draw.DrawMorganBits(prints, molsPerRow =8, legends=[str(x) for x in fp47.GetOnBits ()])"
      ],
      "execution_count": null,
      "outputs": []
    },
    {
      "cell_type": "code",
      "metadata": {
        "id": "3IwU609VSFny"
      },
      "source": [
        "bi = {}\n",
        "\n",
        "fp48= AllChem.GetMorganFingerprintAsBitVect(M48, 2, nBits= 1024, bitInfo=bi)\n",
        "fp_arr = np.zeros((1,))\n",
        "DataStructs.ConvertToNumpyArray(fp48, fp_arr)\n",
        "np.nonzero(fp_arr)\n",
        "list(fp48.GetOnBits())"
      ],
      "execution_count": null,
      "outputs": []
    },
    {
      "cell_type": "code",
      "metadata": {
        "id": "mAfUY1mKa6SP"
      },
      "source": [
        "prints = [(M48, x, bi) for x in fp48.GetOnBits()]\n",
        "Draw.DrawMorganBits(prints, molsPerRow =8, legends=[str(x) for x in fp48.GetOnBits ()])"
      ],
      "execution_count": null,
      "outputs": []
    },
    {
      "cell_type": "code",
      "metadata": {
        "id": "uP9LcYFsSFkK"
      },
      "source": [
        "bi = {}\n",
        "\n",
        "fp49= AllChem.GetMorganFingerprintAsBitVect(M49, 2, nBits= 1024, bitInfo=bi)\n",
        "fp_arr = np.zeros((1,))\n",
        "DataStructs.ConvertToNumpyArray(fp49, fp_arr)\n",
        "np.nonzero(fp_arr)\n",
        "list(fp49.GetOnBits())"
      ],
      "execution_count": null,
      "outputs": []
    },
    {
      "cell_type": "code",
      "metadata": {
        "id": "EKC9Vooha7FN"
      },
      "source": [
        "prints = [(M49, x, bi) for x in fp49.GetOnBits()]\n",
        "Draw.DrawMorganBits(prints, molsPerRow =8, legends=[str(x) for x in fp49.GetOnBits ()])"
      ],
      "execution_count": null,
      "outputs": []
    },
    {
      "cell_type": "code",
      "metadata": {
        "id": "vkoy1lRkSFgh"
      },
      "source": [
        "bi = {}\n",
        "\n",
        "fp50= AllChem.GetMorganFingerprintAsBitVect(M50, 2, nBits= 1024, bitInfo=bi)\n",
        "fp_arr = np.zeros((1,))\n",
        "DataStructs.ConvertToNumpyArray(fp50, fp_arr)\n",
        "np.nonzero(fp_arr)\n",
        "list(fp50.GetOnBits())"
      ],
      "execution_count": null,
      "outputs": []
    },
    {
      "cell_type": "code",
      "metadata": {
        "id": "-zOh6EmtMsnS"
      },
      "source": [
        "prints = [(M50, x, bi) for x in fp50.GetOnBits()]\n",
        "Draw.DrawMorganBits(prints, molsPerRow =8, legends=[str(x) for x in fp50.GetOnBits ()])"
      ],
      "execution_count": null,
      "outputs": []
    }
  ]
}