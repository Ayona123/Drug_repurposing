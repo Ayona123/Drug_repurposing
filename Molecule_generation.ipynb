{
  "nbformat": 4,
  "nbformat_minor": 0,
  "metadata": {
    "accelerator": "GPU",
    "colab": {
      "name": "Copy of Molecule_generation .ipynb",
      "provenance": [],
      "collapsed_sections": [],
      "machine_shape": "hm",
      "include_colab_link": true
    },
    "kernelspec": {
      "display_name": "Python 3",
      "name": "python3"
    }
  },
  "cells": [
    {
      "cell_type": "markdown",
      "metadata": {
        "id": "view-in-github",
        "colab_type": "text"
      },
      "source": [
        "<a href=\"https://colab.research.google.com/github/Ayona123/Drug_repurposing/blob/main/Molecule_generation.ipynb\" target=\"_parent\"><img src=\"https://colab.research.google.com/assets/colab-badge.svg\" alt=\"Open In Colab\"/></a>"
      ]
    },
    {
      "cell_type": "code",
      "metadata": {
        "id": "tZRSiDYNQLSr"
      },
      "source": [
        "import torch\n",
        "import torch.nn as nn\n",
        "from torch.optim.lr_scheduler import ExponentialLR, StepLR\n",
        "import torch.nn.functional as F"
      ],
      "execution_count": null,
      "outputs": []
    },
    {
      "cell_type": "code",
      "metadata": {
        "id": "87T5BetZQYQv"
      },
      "source": [
        "use_cuda = torch.cuda.is_available()"
      ],
      "execution_count": null,
      "outputs": []
    },
    {
      "cell_type": "code",
      "metadata": {
        "colab": {
          "base_uri": "https://localhost:8080/"
        },
        "id": "YOckP_sYQcda",
        "outputId": "1af7f31c-5471-408b-f03a-cedbaf39cdd6"
      },
      "source": [
        "!git clone https://github.com/susmita2000/ReLeaSE.git\n",
        "!pip install git+https://github.com/samoturk/mol2vec"
      ],
      "execution_count": null,
      "outputs": [
        {
          "output_type": "stream",
          "text": [
            "Cloning into 'ReLeaSE'...\n",
            "remote: Enumerating objects: 561, done.\u001b[K\n",
            "remote: Total 561 (delta 0), reused 0 (delta 0), pack-reused 561\u001b[K\n",
            "Receiving objects: 100% (561/561), 450.05 MiB | 35.98 MiB/s, done.\n",
            "Resolving deltas: 100% (273/273), done.\n",
            "Checking out files: 100% (31/31), done.\n",
            "Collecting git+https://github.com/samoturk/mol2vec\n",
            "  Cloning https://github.com/samoturk/mol2vec to /tmp/pip-req-build-krf5_vsf\n",
            "  Running command git clone -q https://github.com/samoturk/mol2vec /tmp/pip-req-build-krf5_vsf\n",
            "Requirement already satisfied: numpy in /usr/local/lib/python3.7/dist-packages (from mol2vec==0.1) (1.19.5)\n",
            "Requirement already satisfied: gensim in /usr/local/lib/python3.7/dist-packages (from mol2vec==0.1) (3.6.0)\n",
            "Requirement already satisfied: tqdm in /usr/local/lib/python3.7/dist-packages (from mol2vec==0.1) (4.41.1)\n",
            "Requirement already satisfied: joblib in /usr/local/lib/python3.7/dist-packages (from mol2vec==0.1) (1.0.1)\n",
            "Requirement already satisfied: pandas in /usr/local/lib/python3.7/dist-packages (from mol2vec==0.1) (1.1.5)\n",
            "Requirement already satisfied: matplotlib in /usr/local/lib/python3.7/dist-packages (from mol2vec==0.1) (3.2.2)\n",
            "Requirement already satisfied: IPython in /usr/local/lib/python3.7/dist-packages (from mol2vec==0.1) (5.5.0)\n",
            "Requirement already satisfied: seaborn in /usr/local/lib/python3.7/dist-packages (from mol2vec==0.1) (0.11.1)\n",
            "Requirement already satisfied: six>=1.5.0 in /usr/local/lib/python3.7/dist-packages (from gensim->mol2vec==0.1) (1.15.0)\n",
            "Requirement already satisfied: smart-open>=1.2.1 in /usr/local/lib/python3.7/dist-packages (from gensim->mol2vec==0.1) (4.2.0)\n",
            "Requirement already satisfied: scipy>=0.18.1 in /usr/local/lib/python3.7/dist-packages (from gensim->mol2vec==0.1) (1.4.1)\n",
            "Requirement already satisfied: python-dateutil>=2.7.3 in /usr/local/lib/python3.7/dist-packages (from pandas->mol2vec==0.1) (2.8.1)\n",
            "Requirement already satisfied: pytz>=2017.2 in /usr/local/lib/python3.7/dist-packages (from pandas->mol2vec==0.1) (2018.9)\n",
            "Requirement already satisfied: kiwisolver>=1.0.1 in /usr/local/lib/python3.7/dist-packages (from matplotlib->mol2vec==0.1) (1.3.1)\n",
            "Requirement already satisfied: cycler>=0.10 in /usr/local/lib/python3.7/dist-packages (from matplotlib->mol2vec==0.1) (0.10.0)\n",
            "Requirement already satisfied: pyparsing!=2.0.4,!=2.1.2,!=2.1.6,>=2.0.1 in /usr/local/lib/python3.7/dist-packages (from matplotlib->mol2vec==0.1) (2.4.7)\n",
            "Requirement already satisfied: simplegeneric>0.8 in /usr/local/lib/python3.7/dist-packages (from IPython->mol2vec==0.1) (0.8.1)\n",
            "Requirement already satisfied: pickleshare in /usr/local/lib/python3.7/dist-packages (from IPython->mol2vec==0.1) (0.7.5)\n",
            "Requirement already satisfied: traitlets>=4.2 in /usr/local/lib/python3.7/dist-packages (from IPython->mol2vec==0.1) (5.0.5)\n",
            "Requirement already satisfied: pygments in /usr/local/lib/python3.7/dist-packages (from IPython->mol2vec==0.1) (2.6.1)\n",
            "Requirement already satisfied: prompt-toolkit<2.0.0,>=1.0.4 in /usr/local/lib/python3.7/dist-packages (from IPython->mol2vec==0.1) (1.0.18)\n",
            "Requirement already satisfied: pexpect; sys_platform != \"win32\" in /usr/local/lib/python3.7/dist-packages (from IPython->mol2vec==0.1) (4.8.0)\n",
            "Requirement already satisfied: setuptools>=18.5 in /usr/local/lib/python3.7/dist-packages (from IPython->mol2vec==0.1) (54.2.0)\n",
            "Requirement already satisfied: decorator in /usr/local/lib/python3.7/dist-packages (from IPython->mol2vec==0.1) (4.4.2)\n",
            "Requirement already satisfied: ipython-genutils in /usr/local/lib/python3.7/dist-packages (from traitlets>=4.2->IPython->mol2vec==0.1) (0.2.0)\n",
            "Requirement already satisfied: wcwidth in /usr/local/lib/python3.7/dist-packages (from prompt-toolkit<2.0.0,>=1.0.4->IPython->mol2vec==0.1) (0.2.5)\n",
            "Requirement already satisfied: ptyprocess>=0.5 in /usr/local/lib/python3.7/dist-packages (from pexpect; sys_platform != \"win32\"->IPython->mol2vec==0.1) (0.7.0)\n",
            "Building wheels for collected packages: mol2vec\n",
            "  Building wheel for mol2vec (setup.py) ... \u001b[?25l\u001b[?25hdone\n",
            "  Created wheel for mol2vec: filename=mol2vec-0.1-cp37-none-any.whl size=14028 sha256=642326f4ea49959b25af8c1da1a0776978b350d843dda365cbc745253a28a914\n",
            "  Stored in directory: /tmp/pip-ephem-wheel-cache-l53x0r3i/wheels/96/0f/2d/a1092b9677c96453dc244b209544cac61bc8b974cbffb50063\n",
            "Successfully built mol2vec\n",
            "Installing collected packages: mol2vec\n",
            "Successfully installed mol2vec-0.1\n"
          ],
          "name": "stdout"
        }
      ]
    },
    {
      "cell_type": "code",
      "metadata": {
        "colab": {
          "base_uri": "https://localhost:8080/"
        },
        "id": "_F9FfyFSQl_5",
        "outputId": "65f70ec2-a24d-4626-cd01-04520a13ef86"
      },
      "source": [
        "import sys\n",
        "import os\n",
        "import requests\n",
        "import subprocess\n",
        "import shutil\n",
        "from logging import getLogger, StreamHandler, INFO\n",
        "\n",
        "\n",
        "logger = getLogger(__name__)\n",
        "logger.addHandler(StreamHandler())\n",
        "logger.setLevel(INFO)\n",
        "\n",
        "\n",
        "def install(\n",
        "        chunk_size=4096,\n",
        "        file_name=\"Miniconda3-latest-Linux-x86_64.sh\",\n",
        "        url_base=\"https://repo.continuum.io/miniconda/\",\n",
        "        conda_path=os.path.expanduser(os.path.join(\"~\", \"miniconda\")),\n",
        "        rdkit_version=None,\n",
        "        add_python_path=True,\n",
        "        force=False):\n",
        "    \"\"\"install rdkit from miniconda\n",
        "    ```\n",
        "    import rdkit_installer\n",
        "    rdkit_installer.install()\n",
        "    ```\n",
        "    \"\"\"\n",
        "\n",
        "    python_path = os.path.join(\n",
        "        conda_path,\n",
        "        \"lib\",\n",
        "        \"python{0}.{1}\".format(*sys.version_info),\n",
        "        \"site-packages\",\n",
        "    )\n",
        "\n",
        "    if add_python_path and python_path not in sys.path:\n",
        "        logger.info(\"add {} to PYTHONPATH\".format(python_path))\n",
        "        sys.path.append(python_path)\n",
        "\n",
        "    if os.path.isdir(os.path.join(python_path, \"rdkit\")):\n",
        "        logger.info(\"rdkit is already installed\")\n",
        "        if not force:\n",
        "            return\n",
        "\n",
        "        logger.info(\"force re-install\")\n",
        "\n",
        "    url = url_base + file_name\n",
        "    python_version = \"{0}.{1}.{2}\".format(*sys.version_info)\n",
        "\n",
        "    logger.info(\"python version: {}\".format(python_version))\n",
        "\n",
        "    if os.path.isdir(conda_path):\n",
        "        logger.warning(\"remove current miniconda\")\n",
        "        shutil.rmtree(conda_path)\n",
        "    elif os.path.isfile(conda_path):\n",
        "        logger.warning(\"remove {}\".format(conda_path))\n",
        "        os.remove(conda_path)\n",
        "\n",
        "    logger.info('fetching installer from {}'.format(url))\n",
        "    res = requests.get(url, stream=True)\n",
        "    res.raise_for_status()\n",
        "    with open(file_name, 'wb') as f:\n",
        "        for chunk in res.iter_content(chunk_size):\n",
        "            f.write(chunk)\n",
        "    logger.info('done')\n",
        "\n",
        "    logger.info('installing miniconda to {}'.format(conda_path))\n",
        "    subprocess.check_call([\"bash\", file_name, \"-b\", \"-p\", conda_path])\n",
        "    logger.info('done')\n",
        "\n",
        "    logger.info(\"installing rdkit\")\n",
        "    subprocess.check_call([\n",
        "        os.path.join(conda_path, \"bin\", \"conda\"),\n",
        "        \"install\",\n",
        "        \"--yes\",\n",
        "        \"-c\", \"rdkit\",\n",
        "        \"python=={}\".format(python_version),\n",
        "        \"rdkit\" if rdkit_version is None else \"rdkit=={}\".format(rdkit_version)])\n",
        "    logger.info(\"done\")\n",
        "\n",
        "    import rdkit\n",
        "    logger.info(\"rdkit-{} installation finished!\".format(rdkit.__version__))\n",
        "\n",
        "\n",
        "if __name__ == \"__main__\":\n",
        "    install()\n",
        "\n",
        "%matplotlib inline\n",
        "import matplotlib.pyplot as plt\n",
        "import sys\n",
        "import os\n",
        "sys.path.append('/usr/local/lib/python3.7/site-packages/')\n",
        "!pip install keras-tqdm\n",
        "\n"
      ],
      "execution_count": null,
      "outputs": [
        {
          "output_type": "stream",
          "text": [
            "add /root/miniconda/lib/python3.7/site-packages to PYTHONPATH\n",
            "python version: 3.7.10\n",
            "fetching installer from https://repo.continuum.io/miniconda/Miniconda3-latest-Linux-x86_64.sh\n",
            "done\n",
            "installing miniconda to /root/miniconda\n",
            "done\n",
            "installing rdkit\n",
            "done\n",
            "rdkit-2020.09.1 installation finished!\n"
          ],
          "name": "stderr"
        },
        {
          "output_type": "stream",
          "text": [
            "Collecting keras-tqdm\n",
            "  Downloading https://files.pythonhosted.org/packages/16/5c/ac63c65b79a895b8994474de2ad4d5b66ac0796b8903d60cfea3f8308d5c/keras_tqdm-2.0.1-py2.py3-none-any.whl\n",
            "Requirement already satisfied: Keras in /usr/local/lib/python3.7/dist-packages (from keras-tqdm) (2.4.3)\n",
            "Requirement already satisfied: tqdm in /usr/local/lib/python3.7/dist-packages (from keras-tqdm) (4.41.1)\n",
            "Requirement already satisfied: h5py in /usr/local/lib/python3.7/dist-packages (from Keras->keras-tqdm) (2.10.0)\n",
            "Requirement already satisfied: scipy>=0.14 in /usr/local/lib/python3.7/dist-packages (from Keras->keras-tqdm) (1.4.1)\n",
            "Requirement already satisfied: pyyaml in /usr/local/lib/python3.7/dist-packages (from Keras->keras-tqdm) (3.13)\n",
            "Requirement already satisfied: numpy>=1.9.1 in /usr/local/lib/python3.7/dist-packages (from Keras->keras-tqdm) (1.19.5)\n",
            "Requirement already satisfied: six in /usr/local/lib/python3.7/dist-packages (from h5py->Keras->keras-tqdm) (1.15.0)\n",
            "Installing collected packages: keras-tqdm\n",
            "Successfully installed keras-tqdm-2.0.1\n"
          ],
          "name": "stdout"
        }
      ]
    },
    {
      "cell_type": "code",
      "metadata": {
        "colab": {
          "base_uri": "https://localhost:8080/"
        },
        "id": "xalsFDNyQp66",
        "outputId": "4637f183-d501-480d-b0d8-f59c66858ed3"
      },
      "source": [
        "%cd ./ReLeaSE\n",
        "%cd ./release\n",
        "import numpy as np\n",
        "from tqdm import tqdm, trange\n",
        "import pickle\n",
        "from rdkit import Chem, DataStructs\n",
        "from stackRNN import StackAugmentedRNN\n",
        "from data import GeneratorData\n",
        "from utils import canonical_smiles\n",
        "\n",
        "import matplotlib.pyplot as plt\n",
        "%matplotlib inline\n",
        "\n",
        "import seaborn as sns"
      ],
      "execution_count": null,
      "outputs": [
        {
          "output_type": "stream",
          "text": [
            "/content/ReLeaSE\n",
            "/content/ReLeaSE/release\n"
          ],
          "name": "stdout"
        }
      ]
    },
    {
      "cell_type": "code",
      "metadata": {
        "id": "XryjXIYhQ_gM"
      },
      "source": [
        "gen_data_path = '../data/chembl_22_clean_1576904_sorted_std_final.smi'"
      ],
      "execution_count": null,
      "outputs": []
    },
    {
      "cell_type": "code",
      "metadata": {
        "id": "M4-rTSpsA9Ol"
      },
      "source": [
        "tokens = ['<', '>', '#', '%', ')', '(', '+', '-', '/', '.', '1', '0', '3', '2', '5', '4', '7',\n",
        "          '6', '9', '8', '=', 'A', '@', 'C', 'B', 'F', 'I', 'H', 'O', 'N', 'P', 'S', '[', ']',\n",
        "          '\\\\', 'c', 'e', 'i', 'l', 'o', 'n', 'p', 's', 'r', '\\n']\n",
        "gen_data = GeneratorData(training_data_path=gen_data_path, delimiter='\\t', \n",
        "                         cols_to_read=[0], keep_header=True, tokens=tokens)"
      ],
      "execution_count": null,
      "outputs": []
    },
    {
      "cell_type": "code",
      "metadata": {
        "id": "RgqZSUwUBHBq"
      },
      "source": [
        "\n",
        "def plot_hist(prediction, n_to_generate):\n",
        "    print(\"Mean value of predictions:\", prediction.mean())\n",
        "    print(\"Proportion of valid SMILES:\", len(prediction)/n_to_generate)\n",
        "    ax = sns.kdeplot(prediction, shade=True)\n",
        "    ax.set(xlabel='Predicted vina', \n",
        "           title='Distribution of predicted vina for generated molecules')\n",
        "    plt.show()\n",
        "def estimate_and_update(generator, predictor, n_to_generate, **kwargs):\n",
        "    generated = []\n",
        "    pbar = tqdm(range(n_to_generate))\n",
        "    for i in pbar:\n",
        "        pbar.set_description(\"Generating molecules...\")\n",
        "        generated.append(generator.evaluate(gen_data, predict_len=120)[1:-1])\n",
        "\n",
        "    sanitized = canonical_smiles(generated, sanitize=False, throw_warning=False)[:-1]\n",
        "    unique_smiles = list(np.unique(sanitized))[1:]\n",
        "    smiles, prediction, nan_smiles = predictor.predict(unique_smiles, get_features=get_fp)  \n",
        "                                                       \n",
        "    plot_hist(prediction, n_to_generate)\n",
        "        \n",
        "    return smiles, prediction\n",
        "\n"
      ],
      "execution_count": null,
      "outputs": []
    },
    {
      "cell_type": "code",
      "metadata": {
        "colab": {
          "base_uri": "https://localhost:8080/"
        },
        "id": "PpR40Z6YBVK0",
        "outputId": "f8c5f359-6303-4f11-83e9-4568000746dd"
      },
      "source": [
        "hidden_size = 1500\n",
        "stack_width = 1500\n",
        "stack_depth = 200\n",
        "layer_type = 'GRU'\n",
        "lr = 0.001\n",
        "optimizer_instance = torch.optim.Adadelta\n",
        "\n",
        "my_generator = StackAugmentedRNN(input_size=gen_data.n_characters, hidden_size=hidden_size,\n",
        "                                 output_size=gen_data.n_characters, layer_type=layer_type,\n",
        "                                 n_layers=1, is_bidirectional=False, has_stack=True,\n",
        "                                 stack_width=stack_width, stack_depth=stack_depth, \n",
        "                                 use_cuda=use_cuda, \n",
        "                                 optimizer_instance=optimizer_instance, lr=lr)\n",
        "model_path = '../checkpoints/generator/checkpoint_biggest_rnn'\n",
        "\n",
        "my_generator.load_model(model_path)\n",
        "!pip install mordred\n",
        "from data import PredictorData\n",
        "from utils import get_desc, get_fp\n",
        "from mordred import Calculator, descriptors\n",
        "calc = Calculator(descriptors, ignore_3D=True)"
      ],
      "execution_count": null,
      "outputs": [
        {
          "output_type": "stream",
          "text": [
            "Collecting mordred\n",
            "\u001b[?25l  Downloading https://files.pythonhosted.org/packages/93/3d/26c908ece761adafcea06320bf8fe73f4de69979273fb164226dc6038c39/mordred-1.2.0.tar.gz (128kB)\n",
            "\r\u001b[K     |██▌                             | 10kB 13.1MB/s eta 0:00:01\r\u001b[K     |█████                           | 20kB 12.0MB/s eta 0:00:01\r\u001b[K     |███████▋                        | 30kB 9.3MB/s eta 0:00:01\r\u001b[K     |██████████▏                     | 40kB 8.2MB/s eta 0:00:01\r\u001b[K     |████████████▊                   | 51kB 5.0MB/s eta 0:00:01\r\u001b[K     |███████████████▎                | 61kB 4.9MB/s eta 0:00:01\r\u001b[K     |█████████████████▉              | 71kB 5.4MB/s eta 0:00:01\r\u001b[K     |████████████████████▍           | 81kB 5.9MB/s eta 0:00:01\r\u001b[K     |███████████████████████         | 92kB 5.8MB/s eta 0:00:01\r\u001b[K     |█████████████████████████▌      | 102kB 4.9MB/s eta 0:00:01\r\u001b[K     |████████████████████████████    | 112kB 4.9MB/s eta 0:00:01\r\u001b[K     |██████████████████████████████▌ | 122kB 4.9MB/s eta 0:00:01\r\u001b[K     |████████████████████████████████| 133kB 4.9MB/s \n",
            "\u001b[?25hRequirement already satisfied: six==1.* in /usr/local/lib/python3.7/dist-packages (from mordred) (1.15.0)\n",
            "Requirement already satisfied: numpy==1.* in /usr/local/lib/python3.7/dist-packages (from mordred) (1.19.5)\n",
            "Requirement already satisfied: networkx==2.* in /usr/local/lib/python3.7/dist-packages (from mordred) (2.5)\n",
            "Requirement already satisfied: decorator>=4.3.0 in /usr/local/lib/python3.7/dist-packages (from networkx==2.*->mordred) (4.4.2)\n",
            "Building wheels for collected packages: mordred\n",
            "  Building wheel for mordred (setup.py) ... \u001b[?25l\u001b[?25hdone\n",
            "  Created wheel for mordred: filename=mordred-1.2.0-cp37-none-any.whl size=176721 sha256=bbf6dc2499e694236b82340eb57c9e5c35312c35195e488ca4783142ab93d349\n",
            "  Stored in directory: /root/.cache/pip/wheels/ac/74/3f/2fd81b1187013f2eadb15620434813f1824c4c03b7bd1f94f6\n",
            "Successfully built mordred\n",
            "Installing collected packages: mordred\n",
            "Successfully installed mordred-1.2.0\n"
          ],
          "name": "stdout"
        }
      ]
    },
    {
      "cell_type": "code",
      "metadata": {
        "colab": {
          "base_uri": "https://localhost:8080/"
        },
        "id": "nAkdGEImBfeC",
        "outputId": "7d6290ae-428f-4a77-d6a2-2cff5c5945f9"
      },
      "source": [
        "from google.colab import drive\n",
        "drive.mount('/content/drive',force_remount=True)\n",
        "pred_data = PredictorData(path='../data/supercompcut.csv', get_features=get_fp)"
      ],
      "execution_count": null,
      "outputs": [
        {
          "output_type": "stream",
          "text": [
            "Mounted at /content/drive\n"
          ],
          "name": "stdout"
        }
      ]
    },
    {
      "cell_type": "code",
      "metadata": {
        "colab": {
          "base_uri": "https://localhost:8080/"
        },
        "id": "5SQdQt2TBkVK",
        "outputId": "857c5702-3615-4c74-8a54-fad35a405edc"
      },
      "source": [
        "from predictor import VanillaQSAR\n",
        "from sklearn.ensemble import RandomForestRegressor as RFR\n",
        "\n",
        "model_instance = RFR\n",
        "model_params = {'n_estimators': 500, 'n_jobs': 20}\n",
        "my_predictor = VanillaQSAR(model_instance=model_instance,\n",
        "                           model_params=model_params,\n",
        "                           model_type='regressor')"
      ],
      "execution_count": null,
      "outputs": [
        {
          "output_type": "stream",
          "text": [
            "/usr/local/lib/python3.7/dist-packages/sklearn/externals/joblib/__init__.py:15: FutureWarning: sklearn.externals.joblib is deprecated in 0.21 and will be removed in 0.23. Please import this functionality directly from joblib, which can be installed with: pip install joblib. If this warning is raised when loading pickled models, you may need to re-serialize those models with scikit-learn 0.21+.\n",
            "  warnings.warn(msg, category=FutureWarning)\n"
          ],
          "name": "stderr"
        }
      ]
    },
    {
      "cell_type": "code",
      "metadata": {
        "colab": {
          "base_uri": "https://localhost:8080/"
        },
        "id": "1BRtWZYJBmZM",
        "outputId": "8ae9eddf-2e64-4944-8ae6-2cae328faf6f"
      },
      "source": [
        "my_predictor.fit_model(pred_data, cv_split='random')"
      ],
      "execution_count": null,
      "outputs": [
        {
          "output_type": "execute_result",
          "data": {
            "text/plain": [
              "([0.7885748589947374,\n",
              "  0.8054514167510706,\n",
              "  0.8031973984015557,\n",
              "  0.7762516152602682,\n",
              "  0.799439437816687],\n",
              " 'R^2 score')"
            ]
          },
          "metadata": {
            "tags": []
          },
          "execution_count": 12
        }
      ]
    },
    {
      "cell_type": "code",
      "metadata": {
        "id": "KaEt1hprmd-h"
      },
      "source": [
        "\n",
        "def get_reward_min(smiles, predictor, invalid_reward=0.0, get_features=get_fp):\n",
        "    mol, prop, nan_smiles = predictor.predict([smiles], get_features=get_features)\n",
        "    if len(nan_smiles) == 1:\n",
        "        return invalid_reward\n",
        "    return np.exp(-2*prop[0]/3 + 3)"
      ],
      "execution_count": null,
      "outputs": []
    },
    {
      "cell_type": "code",
      "metadata": {
        "id": "mF6pyA3rbW4o"
      },
      "source": [
        "from reinforcement import Reinforcement\n",
        "\n",
        "my_generator_min = StackAugmentedRNN(input_size=gen_data.n_characters, hidden_size=hidden_size,\n",
        "                                 output_size=gen_data.n_characters, layer_type=layer_type,\n",
        "                                 n_layers=1, is_bidirectional=False, has_stack=True,\n",
        "                                 stack_width=stack_width, stack_depth=stack_depth, \n",
        "                                 use_cuda=use_cuda, \n",
        "                                 optimizer_instance=optimizer_instance, lr=lr)\n",
        "my_generator_min.load_model(model_path)\n",
        "\n",
        "RL_min = Reinforcement(my_generator_min, my_predictor, get_reward_min)\n",
        "\n",
        "n_to_generate = 200\n",
        "n_policy_replay = 10\n",
        "n_policy = 15\n",
        "n_iterations = 50\n",
        "\n",
        "def simple_moving_average(previous_values, new_value, ma_window_size=10):\n",
        "    value_ma = np.sum(previous_values[-(ma_window_size-1):]) + new_value\n",
        "    value_ma = value_ma/(len(previous_values[-(ma_window_size-1):]) + 1)\n",
        "    return value_ma\n",
        "\n",
        "def get_reward_min(smiles, predictor, invalid_reward=0.0, get_features=get_fp):\n",
        "    mol, prop, nan_smiles = predictor.predict([smiles], get_features=get_features)\n",
        "    if len(nan_smiles) == 1:\n",
        "        return invalid_reward\n",
        "    return np.exp(-2*prop[0]/3 + 3)"
      ],
      "execution_count": null,
      "outputs": []
    },
    {
      "cell_type": "code",
      "metadata": {
        "colab": {
          "background_save": true,
          "base_uri": "https://localhost:8080/"
        },
        "id": "b6VTNJ5UBtMR",
        "outputId": "4051452b-f715-4ec2-e4e7-492e2a970455"
      },
      "source": [
        "smiles_biased_min, prediction_biased_min = estimate_and_update(RL_min.generator, \n",
        "                                                           my_predictor,\n",
        "                                                           n_to_generate=10000)\n",
        "\n"
      ],
      "execution_count": null,
      "outputs": [
        {
          "output_type": "stream",
          "text": [
            "Generating molecules...:   0%|          | 0/10000 [00:00<?, ?it/s]/content/ReLeaSE/release/data.py:98: UserWarning: To copy construct from a tensor, it is recommended to use sourceTensor.clone().detach() or sourceTensor.clone().detach().requires_grad_(True), rather than torch.tensor(sourceTensor).\n",
            "  return torch.tensor(tensor).cuda()\n",
            "Generating molecules...: 100%|██████████| 10000/10000 [11:28<00:00, 14.52it/s]\n"
          ],
          "name": "stderr"
        },
        {
          "output_type": "stream",
          "text": [
            "Mean value of predictions: -6.857583789853405\n",
            "Proportion of valid SMILES: 0.6321\n"
          ],
          "name": "stdout"
        },
        {
          "output_type": "display_data",
          "data": {
            "image/png": "[encoded data removed]",
            "text/plain": [
              "<Figure size 432x288 with 1 Axes>"
            ]
          },
          "metadata": {
            "tags": []
          }
        }
      ]
    },
    {
      "cell_type": "code",
      "metadata": {
        "id": "OJ7D3kfSnb3F",
        "colab": {
          "base_uri": "https://localhost:8080/"
        },
        "outputId": "223be1e5-dbee-46d0-c829-85d765acdca3"
      },
      "source": [
        "print(len(smiles_biased_min))\n",
        "from numpy import save\n",
        "save('/content/ReLeaSE/output2', smiles_biased_min)"
      ],
      "execution_count": null,
      "outputs": [
        {
          "output_type": "stream",
          "text": [
            "6321\n"
          ],
          "name": "stdout"
        }
      ]
    }
  ]
}